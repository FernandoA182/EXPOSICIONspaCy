{
 "cells": [
  {
   "cell_type": "code",
   "execution_count": 1,
   "metadata": {},
   "outputs": [
    {
     "name": "stdout",
     "output_type": "stream",
     "text": [
      "Requirement already satisfied: spacy in c:\\users\\skimo\\appdata\\local\\programs\\python\\python312\\lib\\site-packages (3.8.2)\n",
      "Requirement already satisfied: spacy-legacy<3.1.0,>=3.0.11 in c:\\users\\skimo\\appdata\\local\\programs\\python\\python312\\lib\\site-packages (from spacy) (3.0.12)\n",
      "Requirement already satisfied: spacy-loggers<2.0.0,>=1.0.0 in c:\\users\\skimo\\appdata\\local\\programs\\python\\python312\\lib\\site-packages (from spacy) (1.0.5)\n",
      "Requirement already satisfied: murmurhash<1.1.0,>=0.28.0 in c:\\users\\skimo\\appdata\\local\\programs\\python\\python312\\lib\\site-packages (from spacy) (1.0.10)\n",
      "Requirement already satisfied: cymem<2.1.0,>=2.0.2 in c:\\users\\skimo\\appdata\\local\\programs\\python\\python312\\lib\\site-packages (from spacy) (2.0.8)\n",
      "Requirement already satisfied: preshed<3.1.0,>=3.0.2 in c:\\users\\skimo\\appdata\\local\\programs\\python\\python312\\lib\\site-packages (from spacy) (3.0.9)\n",
      "Requirement already satisfied: thinc<8.4.0,>=8.3.0 in c:\\users\\skimo\\appdata\\local\\programs\\python\\python312\\lib\\site-packages (from spacy) (8.3.2)\n",
      "Requirement already satisfied: wasabi<1.2.0,>=0.9.1 in c:\\users\\skimo\\appdata\\local\\programs\\python\\python312\\lib\\site-packages (from spacy) (1.1.3)\n",
      "Requirement already satisfied: srsly<3.0.0,>=2.4.3 in c:\\users\\skimo\\appdata\\local\\programs\\python\\python312\\lib\\site-packages (from spacy) (2.4.8)\n",
      "Requirement already satisfied: catalogue<2.1.0,>=2.0.6 in c:\\users\\skimo\\appdata\\local\\programs\\python\\python312\\lib\\site-packages (from spacy) (2.0.10)\n",
      "Requirement already satisfied: weasel<0.5.0,>=0.1.0 in c:\\users\\skimo\\appdata\\local\\programs\\python\\python312\\lib\\site-packages (from spacy) (0.4.1)\n",
      "Requirement already satisfied: typer<1.0.0,>=0.3.0 in c:\\users\\skimo\\appdata\\local\\programs\\python\\python312\\lib\\site-packages (from spacy) (0.12.5)\n",
      "Requirement already satisfied: tqdm<5.0.0,>=4.38.0 in c:\\users\\skimo\\appdata\\local\\programs\\python\\python312\\lib\\site-packages (from spacy) (4.66.6)\n",
      "Requirement already satisfied: requests<3.0.0,>=2.13.0 in c:\\users\\skimo\\appdata\\local\\programs\\python\\python312\\lib\\site-packages (from spacy) (2.32.3)\n",
      "Requirement already satisfied: pydantic!=1.8,!=1.8.1,<3.0.0,>=1.7.4 in c:\\users\\skimo\\appdata\\local\\programs\\python\\python312\\lib\\site-packages (from spacy) (2.9.2)\n",
      "Requirement already satisfied: jinja2 in c:\\users\\skimo\\appdata\\local\\programs\\python\\python312\\lib\\site-packages (from spacy) (3.1.4)\n",
      "Requirement already satisfied: setuptools in c:\\users\\skimo\\appdata\\local\\programs\\python\\python312\\lib\\site-packages (from spacy) (75.3.0)\n",
      "Requirement already satisfied: packaging>=20.0 in c:\\users\\skimo\\appdata\\roaming\\python\\python312\\site-packages (from spacy) (24.1)\n",
      "Requirement already satisfied: langcodes<4.0.0,>=3.2.0 in c:\\users\\skimo\\appdata\\local\\programs\\python\\python312\\lib\\site-packages (from spacy) (3.4.1)\n",
      "Requirement already satisfied: numpy>=1.19.0 in c:\\users\\skimo\\appdata\\local\\programs\\python\\python312\\lib\\site-packages (from spacy) (2.0.2)\n",
      "Requirement already satisfied: language-data>=1.2 in c:\\users\\skimo\\appdata\\local\\programs\\python\\python312\\lib\\site-packages (from langcodes<4.0.0,>=3.2.0->spacy) (1.2.0)\n",
      "Requirement already satisfied: annotated-types>=0.6.0 in c:\\users\\skimo\\appdata\\local\\programs\\python\\python312\\lib\\site-packages (from pydantic!=1.8,!=1.8.1,<3.0.0,>=1.7.4->spacy) (0.7.0)\n",
      "Requirement already satisfied: pydantic-core==2.23.4 in c:\\users\\skimo\\appdata\\local\\programs\\python\\python312\\lib\\site-packages (from pydantic!=1.8,!=1.8.1,<3.0.0,>=1.7.4->spacy) (2.23.4)\n",
      "Requirement already satisfied: typing-extensions>=4.6.1 in c:\\users\\skimo\\appdata\\local\\programs\\python\\python312\\lib\\site-packages (from pydantic!=1.8,!=1.8.1,<3.0.0,>=1.7.4->spacy) (4.12.2)\n",
      "Requirement already satisfied: charset-normalizer<4,>=2 in c:\\users\\skimo\\appdata\\local\\programs\\python\\python312\\lib\\site-packages (from requests<3.0.0,>=2.13.0->spacy) (3.4.0)\n",
      "Requirement already satisfied: idna<4,>=2.5 in c:\\users\\skimo\\appdata\\local\\programs\\python\\python312\\lib\\site-packages (from requests<3.0.0,>=2.13.0->spacy) (3.10)\n",
      "Requirement already satisfied: urllib3<3,>=1.21.1 in c:\\users\\skimo\\appdata\\local\\programs\\python\\python312\\lib\\site-packages (from requests<3.0.0,>=2.13.0->spacy) (2.2.3)\n",
      "Requirement already satisfied: certifi>=2017.4.17 in c:\\users\\skimo\\appdata\\local\\programs\\python\\python312\\lib\\site-packages (from requests<3.0.0,>=2.13.0->spacy) (2024.8.30)\n",
      "Requirement already satisfied: blis<1.1.0,>=1.0.0 in c:\\users\\skimo\\appdata\\local\\programs\\python\\python312\\lib\\site-packages (from thinc<8.4.0,>=8.3.0->spacy) (1.0.1)\n",
      "Requirement already satisfied: confection<1.0.0,>=0.0.1 in c:\\users\\skimo\\appdata\\local\\programs\\python\\python312\\lib\\site-packages (from thinc<8.4.0,>=8.3.0->spacy) (0.1.5)\n",
      "Requirement already satisfied: colorama in c:\\users\\skimo\\appdata\\roaming\\python\\python312\\site-packages (from tqdm<5.0.0,>=4.38.0->spacy) (0.4.6)\n",
      "Requirement already satisfied: click>=8.0.0 in c:\\users\\skimo\\appdata\\local\\programs\\python\\python312\\lib\\site-packages (from typer<1.0.0,>=0.3.0->spacy) (8.1.7)\n",
      "Requirement already satisfied: shellingham>=1.3.0 in c:\\users\\skimo\\appdata\\local\\programs\\python\\python312\\lib\\site-packages (from typer<1.0.0,>=0.3.0->spacy) (1.5.4)\n",
      "Requirement already satisfied: rich>=10.11.0 in c:\\users\\skimo\\appdata\\local\\programs\\python\\python312\\lib\\site-packages (from typer<1.0.0,>=0.3.0->spacy) (13.9.4)\n",
      "Requirement already satisfied: cloudpathlib<1.0.0,>=0.7.0 in c:\\users\\skimo\\appdata\\local\\programs\\python\\python312\\lib\\site-packages (from weasel<0.5.0,>=0.1.0->spacy) (0.20.0)\n",
      "Requirement already satisfied: smart-open<8.0.0,>=5.2.1 in c:\\users\\skimo\\appdata\\local\\programs\\python\\python312\\lib\\site-packages (from weasel<0.5.0,>=0.1.0->spacy) (7.0.5)\n",
      "Requirement already satisfied: MarkupSafe>=2.0 in c:\\users\\skimo\\appdata\\local\\programs\\python\\python312\\lib\\site-packages (from jinja2->spacy) (3.0.1)\n",
      "Requirement already satisfied: marisa-trie>=0.7.7 in c:\\users\\skimo\\appdata\\local\\programs\\python\\python312\\lib\\site-packages (from language-data>=1.2->langcodes<4.0.0,>=3.2.0->spacy) (1.2.1)\n",
      "Requirement already satisfied: markdown-it-py>=2.2.0 in c:\\users\\skimo\\appdata\\local\\programs\\python\\python312\\lib\\site-packages (from rich>=10.11.0->typer<1.0.0,>=0.3.0->spacy) (3.0.0)\n",
      "Requirement already satisfied: pygments<3.0.0,>=2.13.0 in c:\\users\\skimo\\appdata\\roaming\\python\\python312\\site-packages (from rich>=10.11.0->typer<1.0.0,>=0.3.0->spacy) (2.18.0)\n",
      "Requirement already satisfied: wrapt in c:\\users\\skimo\\appdata\\local\\programs\\python\\python312\\lib\\site-packages (from smart-open<8.0.0,>=5.2.1->weasel<0.5.0,>=0.1.0->spacy) (1.16.0)\n",
      "Requirement already satisfied: mdurl~=0.1 in c:\\users\\skimo\\appdata\\local\\programs\\python\\python312\\lib\\site-packages (from markdown-it-py>=2.2.0->rich>=10.11.0->typer<1.0.0,>=0.3.0->spacy) (0.1.2)\n"
     ]
    },
    {
     "name": "stderr",
     "output_type": "stream",
     "text": [
      "\n",
      "[notice] A new release of pip is available: 24.2 -> 24.3.1\n",
      "[notice] To update, run: python.exe -m pip install --upgrade pip\n"
     ]
    }
   ],
   "source": [
    "# Instalar spaCy\n",
    "!pip install spacy"
   ]
  },
  {
   "cell_type": "code",
   "execution_count": 2,
   "metadata": {},
   "outputs": [
    {
     "name": "stdout",
     "output_type": "stream",
     "text": [
      "Collecting es-core-news-sm==3.8.0\n",
      "  Downloading https://github.com/explosion/spacy-models/releases/download/es_core_news_sm-3.8.0/es_core_news_sm-3.8.0-py3-none-any.whl (12.9 MB)\n",
      "     ---------------------------------------- 0.0/12.9 MB ? eta -:--:--\n",
      "     -- ------------------------------------- 0.8/12.9 MB 8.5 MB/s eta 0:00:02\n",
      "     ----------- ---------------------------- 3.7/12.9 MB 12.1 MB/s eta 0:00:01\n",
      "     ---------------------- ----------------- 7.3/12.9 MB 15.6 MB/s eta 0:00:01\n",
      "     -------------------------------- ------ 10.7/12.9 MB 14.9 MB/s eta 0:00:01\n",
      "     --------------------------------------  12.6/12.9 MB 13.6 MB/s eta 0:00:01\n",
      "     --------------------------------------- 12.9/12.9 MB 12.4 MB/s eta 0:00:00\n",
      "\u001b[38;5;2m✔ Download and installation successful\u001b[0m\n",
      "You can now load the package via spacy.load('es_core_news_sm')\n"
     ]
    },
    {
     "name": "stderr",
     "output_type": "stream",
     "text": [
      "\n",
      "[notice] A new release of pip is available: 24.2 -> 24.3.1\n",
      "[notice] To update, run: python.exe -m pip install --upgrade pip\n"
     ]
    }
   ],
   "source": [
    "# Descargar modelo en español\n",
    "!python -m spacy download es_core_news_sm"
   ]
  },
  {
   "cell_type": "code",
   "execution_count": 3,
   "metadata": {},
   "outputs": [
    {
     "name": "stdout",
     "output_type": "stream",
     "text": [
      "Collecting en-core-web-sm==3.8.0\n",
      "  Downloading https://github.com/explosion/spacy-models/releases/download/en_core_web_sm-3.8.0/en_core_web_sm-3.8.0-py3-none-any.whl (12.8 MB)\n",
      "     ---------------------------------------- 0.0/12.8 MB ? eta -:--:--\n",
      "     ---- ----------------------------------- 1.3/12.8 MB 13.4 MB/s eta 0:00:01\n",
      "     ---------------- ----------------------- 5.2/12.8 MB 16.8 MB/s eta 0:00:01\n",
      "     --------------------------- ------------ 8.7/12.8 MB 16.8 MB/s eta 0:00:01\n",
      "     --------------------------------- ----- 11.0/12.8 MB 14.6 MB/s eta 0:00:01\n",
      "     --------------------------------------  12.6/12.8 MB 14.1 MB/s eta 0:00:01\n",
      "     --------------------------------------- 12.8/12.8 MB 12.2 MB/s eta 0:00:00\n",
      "\u001b[38;5;2m✔ Download and installation successful\u001b[0m\n",
      "You can now load the package via spacy.load('en_core_web_sm')\n"
     ]
    },
    {
     "name": "stderr",
     "output_type": "stream",
     "text": [
      "\n",
      "[notice] A new release of pip is available: 24.2 -> 24.3.1\n",
      "[notice] To update, run: python.exe -m pip install --upgrade pip\n"
     ]
    }
   ],
   "source": [
    "# Descargar modelo en inglés\n",
    "!python -m spacy download en_core_web_sm"
   ]
  },
  {
   "cell_type": "code",
   "execution_count": 4,
   "metadata": {},
   "outputs": [],
   "source": [
    "import spacy\n",
    "\n",
    "# Cargar el modelo en español\n",
    "nlp = spacy.load(\"es_core_news_sm\")\n",
    "\n",
    "# Procesar un texto\n",
    "texto = \"Apple está buscando comprar una startup del Reino Unido por mil millones de dólares.\"\n",
    "doc = nlp(texto)"
   ]
  },
  {
   "cell_type": "code",
   "execution_count": 5,
   "metadata": {},
   "outputs": [
    {
     "name": "stdout",
     "output_type": "stream",
     "text": [
      "Apple\n",
      "está\n",
      "buscando\n",
      "comprar\n",
      "una\n",
      "startup\n",
      "del\n",
      "Reino\n",
      "Unido\n",
      "por\n",
      "mil\n",
      "millones\n",
      "de\n",
      "dólares\n",
      ".\n"
     ]
    }
   ],
   "source": [
    "# Dividir texto en tokens\n",
    "for token in doc:\n",
    "    print(token.text)"
   ]
  },
  {
   "cell_type": "code",
   "execution_count": 6,
   "metadata": {},
   "outputs": [
    {
     "name": "stdout",
     "output_type": "stream",
     "text": [
      "Apple: PROPN\n",
      "está: AUX\n",
      "buscando: VERB\n",
      "comprar: VERB\n",
      "una: DET\n",
      "startup: NOUN\n",
      "del: ADP\n",
      "Reino: PROPN\n",
      "Unido: PROPN\n",
      "por: ADP\n",
      "mil: NUM\n",
      "millones: NOUN\n",
      "de: ADP\n",
      "dólares: NOUN\n",
      ".: PUNCT\n"
     ]
    }
   ],
   "source": [
    "# Mostrar parte del discurso\n",
    "for token in doc:\n",
    "    print(f\"{token.text}: {token.pos_}\")"
   ]
  },
  {
   "cell_type": "code",
   "execution_count": 7,
   "metadata": {},
   "outputs": [
    {
     "name": "stdout",
     "output_type": "stream",
     "text": [
      "Texto: Apple, Tipo: ORG\n",
      "Texto: Reino Unido, Tipo: LOC\n"
     ]
    }
   ],
   "source": [
    "# Detectar entidades\n",
    "for ent in doc.ents:\n",
    "    print(f\"Texto: {ent.text}, Tipo: {ent.label_}\")"
   ]
  },
  {
   "cell_type": "code",
   "execution_count": 8,
   "metadata": {},
   "outputs": [],
   "source": [
    "import spacy\n",
    "\n",
    "# Cargar el modelo en español\n",
    "nlp = spacy.load(\"es_core_news_sm\")\n",
    "\n",
    "texto = \"\"\"\n",
    "Microsoft anunció ayer en Nueva York una inversión \n",
    "de 1000 millones de dólares en tecnología AI.\n",
    "\"\"\"\n",
    "doc = nlp(texto)"
   ]
  },
  {
   "cell_type": "code",
   "execution_count": 9,
   "metadata": {},
   "outputs": [
    {
     "name": "stdout",
     "output_type": "stream",
     "text": [
      "🏢 ENTIDADES ENCONTRADAS:\n",
      "- Texto: Microsoft\n",
      "  Tipo: ORG\n",
      "  Explicación: Companies, agencies, institutions, etc.\n",
      "\n",
      "- Texto: Nueva York\n",
      "  Tipo: LOC\n",
      "  Explicación: Non-GPE locations, mountain ranges, bodies of water\n",
      "\n",
      "- Texto: AI\n",
      "  Tipo: ORG\n",
      "  Explicación: Companies, agencies, institutions, etc.\n",
      "\n"
     ]
    }
   ],
   "source": [
    "# 1. Imprimir entidades nombradas\n",
    "print(\"🏢 ENTIDADES ENCONTRADAS:\")\n",
    "for ent in doc.ents:\n",
    "    print(f\"- Texto: {ent.text}\")\n",
    "    print(f\"  Tipo: {ent.label_}\")\n",
    "    print(f\"  Explicación: {spacy.explain(ent.label_)}\\n\")"
   ]
  },
  {
   "cell_type": "code",
   "execution_count": 10,
   "metadata": {},
   "outputs": [
    {
     "name": "stdout",
     "output_type": "stream",
     "text": [
      "\n",
      "📝 ANÁLISIS GRAMATICAL:\n",
      "- Palabra: \n",
      "\n",
      "  Tipo: SPACE\n",
      "  Explicación: space\n",
      "\n",
      "- Palabra: Microsoft\n",
      "  Tipo: PROPN\n",
      "  Explicación: proper noun\n",
      "\n",
      "- Palabra: anunció\n",
      "  Tipo: VERB\n",
      "  Explicación: verb\n",
      "\n",
      "- Palabra: ayer\n",
      "  Tipo: ADV\n",
      "  Explicación: adverb\n",
      "\n",
      "- Palabra: en\n",
      "  Tipo: ADP\n",
      "  Explicación: adposition\n",
      "\n",
      "- Palabra: Nueva\n",
      "  Tipo: PROPN\n",
      "  Explicación: proper noun\n",
      "\n",
      "- Palabra: York\n",
      "  Tipo: PROPN\n",
      "  Explicación: proper noun\n",
      "\n",
      "- Palabra: una\n",
      "  Tipo: DET\n",
      "  Explicación: determiner\n",
      "\n",
      "- Palabra: inversión\n",
      "  Tipo: NOUN\n",
      "  Explicación: noun\n",
      "\n",
      "- Palabra: \n",
      "\n",
      "  Tipo: SPACE\n",
      "  Explicación: space\n",
      "\n",
      "- Palabra: de\n",
      "  Tipo: ADP\n",
      "  Explicación: adposition\n",
      "\n",
      "- Palabra: 1000\n",
      "  Tipo: NUM\n",
      "  Explicación: numeral\n",
      "\n",
      "- Palabra: millones\n",
      "  Tipo: NOUN\n",
      "  Explicación: noun\n",
      "\n",
      "- Palabra: de\n",
      "  Tipo: ADP\n",
      "  Explicación: adposition\n",
      "\n",
      "- Palabra: dólares\n",
      "  Tipo: NOUN\n",
      "  Explicación: noun\n",
      "\n",
      "- Palabra: en\n",
      "  Tipo: ADP\n",
      "  Explicación: adposition\n",
      "\n",
      "- Palabra: tecnología\n",
      "  Tipo: NOUN\n",
      "  Explicación: noun\n",
      "\n",
      "- Palabra: AI\n",
      "  Tipo: PROPN\n",
      "  Explicación: proper noun\n",
      "\n",
      "- Palabra: .\n",
      "  Tipo: PUNCT\n",
      "  Explicación: punctuation\n",
      "\n",
      "- Palabra: \n",
      "\n",
      "  Tipo: SPACE\n",
      "  Explicación: space\n",
      "\n"
     ]
    }
   ],
   "source": [
    "# 2. Imprimir análisis gramatical\n",
    "print(\"\\n📝 ANÁLISIS GRAMATICAL:\")\n",
    "for token in doc:\n",
    "    print(f\"- Palabra: {token.text}\")\n",
    "    print(f\"  Tipo: {token.pos_}\")\n",
    "    print(f\"  Explicación: {spacy.explain(token.pos_)}\\n\")"
   ]
  },
  {
   "cell_type": "code",
   "execution_count": 11,
   "metadata": {},
   "outputs": [
    {
     "name": "stdout",
     "output_type": "stream",
     "text": [
      "\n",
      "🔄 DEPENDENCIAS SINTÁCTICAS:\n",
      "- Palabra: \n",
      "\n",
      "  Dependencia: dep\n",
      "  Explicación: unclassified dependent\n",
      "\n",
      "- Palabra: Microsoft\n",
      "  Dependencia: nsubj\n",
      "  Explicación: nominal subject\n",
      "\n",
      "- Palabra: anunció\n",
      "  Dependencia: ROOT\n",
      "  Explicación: root\n",
      "\n",
      "- Palabra: ayer\n",
      "  Dependencia: advmod\n",
      "  Explicación: adverbial modifier\n",
      "\n",
      "- Palabra: en\n",
      "  Dependencia: case\n",
      "  Explicación: case marking\n",
      "\n",
      "- Palabra: Nueva\n",
      "  Dependencia: obl\n",
      "  Explicación: oblique nominal\n",
      "\n",
      "- Palabra: York\n",
      "  Dependencia: flat\n",
      "  Explicación: flat multiword expression\n",
      "\n",
      "- Palabra: una\n",
      "  Dependencia: det\n",
      "  Explicación: determiner\n",
      "\n",
      "- Palabra: inversión\n",
      "  Dependencia: obj\n",
      "  Explicación: object\n",
      "\n",
      "- Palabra: \n",
      "\n",
      "  Dependencia: dep\n",
      "  Explicación: unclassified dependent\n",
      "\n",
      "- Palabra: de\n",
      "  Dependencia: case\n",
      "  Explicación: case marking\n",
      "\n",
      "- Palabra: 1000\n",
      "  Dependencia: nmod\n",
      "  Explicación: modifier of nominal\n",
      "\n",
      "- Palabra: millones\n",
      "  Dependencia: nmod\n",
      "  Explicación: modifier of nominal\n",
      "\n",
      "- Palabra: de\n",
      "  Dependencia: case\n",
      "  Explicación: case marking\n",
      "\n",
      "- Palabra: dólares\n",
      "  Dependencia: nmod\n",
      "  Explicación: modifier of nominal\n",
      "\n",
      "- Palabra: en\n",
      "  Dependencia: case\n",
      "  Explicación: case marking\n",
      "\n",
      "- Palabra: tecnología\n",
      "  Dependencia: nmod\n",
      "  Explicación: modifier of nominal\n",
      "\n",
      "- Palabra: AI\n",
      "  Dependencia: amod\n",
      "  Explicación: adjectival modifier\n",
      "\n",
      "- Palabra: .\n",
      "  Dependencia: punct\n",
      "  Explicación: punctuation\n",
      "\n",
      "- Palabra: \n",
      "\n",
      "  Dependencia: dep\n",
      "  Explicación: unclassified dependent\n",
      "\n"
     ]
    }
   ],
   "source": [
    "# 3. Imprimir dependencias sintácticas\n",
    "print(\"\\n🔄 DEPENDENCIAS SINTÁCTICAS:\")\n",
    "for token in doc:\n",
    "    print(f\"- Palabra: {token.text}\")\n",
    "    print(f\"  Dependencia: {token.dep_}\")\n",
    "    print(f\"  Explicación: {spacy.explain(token.dep_)}\\n\")"
   ]
  },
  {
   "cell_type": "markdown",
   "metadata": {},
   "source": [
    "### Práctica de funciones de spaCy:"
   ]
  },
  {
   "cell_type": "markdown",
   "metadata": {},
   "source": [
    "#### Primeros pasos con spaCy:"
   ]
  },
  {
   "cell_type": "code",
   "execution_count": 12,
   "metadata": {},
   "outputs": [],
   "source": [
    "# pip install spacy\n",
    "import spacy "
   ]
  },
  {
   "cell_type": "code",
   "execution_count": 13,
   "metadata": {},
   "outputs": [],
   "source": [
    "# Siempre debemos de cargar el modelo del idioma utilizar\n",
    "# Cargamos modelo en español modelo en español\n",
    "#!python -m spacy download es_core_news_sm\n",
    "nlp = spacy.load('es_core_news_sm') # spacy download es_core_news_sm"
   ]
  },
  {
   "cell_type": "code",
   "execution_count": 14,
   "metadata": {},
   "outputs": [
    {
     "data": {
      "text/plain": [
       "spacy.lang.es.Spanish"
      ]
     },
     "execution_count": 14,
     "metadata": {},
     "output_type": "execute_result"
    }
   ],
   "source": [
    "type(nlp)"
   ]
  },
  {
   "cell_type": "code",
   "execution_count": 15,
   "metadata": {},
   "outputs": [],
   "source": [
    "texto = \"\"\"Santa Catarina (en español: Santa Catalina) es uno de los veintiséis estados que, junto con el distrito federal, forman la República Federativa del Brasil. Su capital es Florianópolis y su ciudad más poblada, Joinville. Está ubicado en el centro de la región Sur del país. Limita al norte con el río Iguazú que lo separa de Paraná, al este con el océano Atlántico, al sur con el río Uruguay que lo separa de Río Grande del Sur y al oeste con Argentina. Con 95 346 km² es el séptimo menos extenso —por delante de Paraíba, Río Grande del Norte, Espírito Santo, Río de Janeiro, Alagoas y Sergipe, el menos extenso— y con 70,6 hab/km² es el séptimo más densamente poblado, por detrás de Río de Janeiro, São Paulo, Alagoas, Sergipe, Pernambuco y Espírito Santo. El estado, que tiene el 3,4% de la población brasileña, es responsable del 3,8% del PIB brasileño.\n",
    "\"\"\""
   ]
  },
  {
   "cell_type": "code",
   "execution_count": 16,
   "metadata": {},
   "outputs": [
    {
     "name": "stdout",
     "output_type": "stream",
     "text": [
      "Santa Catarina (en español: Santa Catalina) es uno de los veintiséis estados que, junto con el distrito federal, forman la República Federativa del Brasil. Su capital es Florianópolis y su ciudad más poblada, Joinville. Está ubicado en el centro de la región Sur del país. Limita al norte con el río Iguazú que lo separa de Paraná, al este con el océano Atlántico, al sur con el río Uruguay que lo separa de Río Grande del Sur y al oeste con Argentina. Con 95 346 km² es el séptimo menos extenso —por delante de Paraíba, Río Grande del Norte, Espírito Santo, Río de Janeiro, Alagoas y Sergipe, el menos extenso— y con 70,6 hab/km² es el séptimo más densamente poblado, por detrás de Río de Janeiro, São Paulo, Alagoas, Sergipe, Pernambuco y Espírito Santo. El estado, que tiene el 3,4% de la población brasileña, es responsable del 3,8% del PIB brasileño.\n",
      "\n"
     ]
    }
   ],
   "source": [
    "print(texto)"
   ]
  },
  {
   "cell_type": "code",
   "execution_count": 17,
   "metadata": {},
   "outputs": [],
   "source": [
    "documento = nlp(texto)"
   ]
  },
  {
   "cell_type": "code",
   "execution_count": 18,
   "metadata": {},
   "outputs": [
    {
     "data": {
      "text/plain": [
       "spacy.tokens.doc.Doc"
      ]
     },
     "execution_count": 18,
     "metadata": {},
     "output_type": "execute_result"
    }
   ],
   "source": [
    "type(documento)"
   ]
  },
  {
   "cell_type": "code",
   "execution_count": 19,
   "metadata": {},
   "outputs": [
    {
     "name": "stdout",
     "output_type": "stream",
     "text": [
      "Santa\n",
      "Catarina\n",
      "(\n",
      "en\n",
      "español\n",
      ":\n",
      "Santa\n",
      "Catalina\n",
      ")\n",
      "es\n",
      "uno\n",
      "de\n",
      "los\n",
      "veintiséis\n",
      "estados\n",
      "que\n",
      ",\n",
      "junto\n",
      "con\n",
      "el\n",
      "distrito\n",
      "federal\n",
      ",\n",
      "forman\n",
      "la\n",
      "República\n",
      "Federativa\n",
      "del\n",
      "Brasil\n",
      ".\n",
      "Su\n",
      "capital\n",
      "es\n",
      "Florianópolis\n",
      "y\n",
      "su\n",
      "ciudad\n",
      "más\n",
      "poblada\n",
      ",\n",
      "Joinville\n",
      ".\n",
      "Está\n",
      "ubicado\n",
      "en\n",
      "el\n",
      "centro\n",
      "de\n",
      "la\n",
      "región\n",
      "Sur\n",
      "del\n",
      "país\n",
      ".\n",
      "Limita\n",
      "al\n",
      "norte\n",
      "con\n",
      "el\n",
      "río\n",
      "Iguazú\n",
      "que\n",
      "lo\n",
      "separa\n",
      "de\n",
      "Paraná\n",
      ",\n",
      "al\n",
      "este\n",
      "con\n",
      "el\n",
      "océano\n",
      "Atlántico\n",
      ",\n",
      "al\n",
      "sur\n",
      "con\n",
      "el\n",
      "río\n",
      "Uruguay\n",
      "que\n",
      "lo\n",
      "separa\n",
      "de\n",
      "Río\n",
      "Grande\n",
      "del\n",
      "Sur\n",
      "y\n",
      "al\n",
      "oeste\n",
      "con\n",
      "Argentina\n",
      ".\n",
      "Con\n",
      "95\n",
      "346\n",
      "km²\n",
      "es\n",
      "el\n",
      "séptimo\n",
      "menos\n",
      "extenso\n",
      "—\n",
      "por\n",
      "delante\n",
      "de\n",
      "Paraíba\n",
      ",\n",
      "Río\n",
      "Grande\n",
      "del\n",
      "Norte\n",
      ",\n",
      "Espírito\n",
      "Santo\n",
      ",\n",
      "Río\n",
      "de\n",
      "Janeiro\n",
      ",\n",
      "Alagoas\n",
      "y\n",
      "Sergipe\n",
      ",\n",
      "el\n",
      "menos\n",
      "extenso\n",
      "—\n",
      "y\n",
      "con\n",
      "70,6\n",
      "hab\n",
      "/\n",
      "km²\n",
      "es\n",
      "el\n",
      "séptimo\n",
      "más\n",
      "densamente\n",
      "poblado\n",
      ",\n",
      "por\n",
      "detrás\n",
      "de\n",
      "Río\n",
      "de\n",
      "Janeiro\n",
      ",\n",
      "São\n",
      "Paulo\n",
      ",\n",
      "Alagoas\n",
      ",\n",
      "Sergipe\n",
      ",\n",
      "Pernambuco\n",
      "y\n",
      "Espírito\n",
      "Santo\n",
      ".\n",
      "El\n",
      "estado\n",
      ",\n",
      "que\n",
      "tiene\n",
      "el\n",
      "3,4%\n",
      "de\n",
      "la\n",
      "población\n",
      "brasileña\n",
      ",\n",
      "es\n",
      "responsable\n",
      "del\n",
      "3,8%\n",
      "del\n",
      "PIB\n",
      "brasileño\n",
      ".\n",
      "\n",
      "\n"
     ]
    }
   ],
   "source": [
    "for elemento in documento:\n",
    "    print(elemento)"
   ]
  },
  {
   "cell_type": "code",
   "execution_count": 20,
   "metadata": {},
   "outputs": [
    {
     "name": "stdout",
     "output_type": "stream",
     "text": [
      "Santa PROPN\n",
      "Catarina PROPN\n",
      "( PUNCT\n",
      "en ADP\n",
      "español NOUN\n",
      ": PUNCT\n",
      "Santa PROPN\n",
      "Catalina PROPN\n",
      ") PUNCT\n",
      "es AUX\n",
      "uno PRON\n",
      "de ADP\n",
      "los DET\n",
      "veintiséis NUM\n",
      "estados NOUN\n",
      "que PRON\n",
      ", PUNCT\n",
      "junto ADJ\n",
      "con ADP\n",
      "el DET\n",
      "distrito NOUN\n",
      "federal ADJ\n",
      ", PUNCT\n",
      "forman VERB\n",
      "la DET\n",
      "República PROPN\n",
      "Federativa PROPN\n",
      "del ADP\n",
      "Brasil PROPN\n",
      ". PUNCT\n",
      "Su DET\n",
      "capital NOUN\n",
      "es AUX\n",
      "Florianópolis PROPN\n",
      "y CCONJ\n",
      "su DET\n",
      "ciudad NOUN\n",
      "más ADV\n",
      "poblada ADJ\n",
      ", PUNCT\n",
      "Joinville PROPN\n",
      ". PUNCT\n",
      "Está AUX\n",
      "ubicado ADJ\n",
      "en ADP\n",
      "el DET\n",
      "centro NOUN\n",
      "de ADP\n",
      "la DET\n",
      "región NOUN\n",
      "Sur PROPN\n",
      "del ADP\n",
      "país NOUN\n",
      ". PUNCT\n",
      "Limita VERB\n",
      "al ADP\n",
      "norte NOUN\n",
      "con ADP\n",
      "el DET\n",
      "río NOUN\n",
      "Iguazú PROPN\n",
      "que PRON\n",
      "lo PRON\n",
      "separa VERB\n",
      "de ADP\n",
      "Paraná PROPN\n",
      ", PUNCT\n",
      "al ADP\n",
      "este NOUN\n",
      "con ADP\n",
      "el DET\n",
      "océano NOUN\n",
      "Atlántico PROPN\n",
      ", PUNCT\n",
      "al ADP\n",
      "sur NOUN\n",
      "con ADP\n",
      "el DET\n",
      "río NOUN\n",
      "Uruguay PROPN\n",
      "que PRON\n",
      "lo PRON\n",
      "separa VERB\n",
      "de ADP\n",
      "Río PROPN\n",
      "Grande ADJ\n",
      "del ADP\n",
      "Sur PROPN\n",
      "y CCONJ\n",
      "al ADP\n",
      "oeste NOUN\n",
      "con ADP\n",
      "Argentina PROPN\n",
      ". PUNCT\n",
      "Con ADP\n",
      "95 NUM\n",
      "346 NUM\n",
      "km² NOUN\n",
      "es AUX\n",
      "el DET\n",
      "séptimo ADJ\n",
      "menos ADV\n",
      "extenso ADJ\n",
      "— PUNCT\n",
      "por ADP\n",
      "delante ADV\n",
      "de ADP\n",
      "Paraíba PROPN\n",
      ", PUNCT\n",
      "Río PROPN\n",
      "Grande ADJ\n",
      "del ADP\n",
      "Norte PROPN\n",
      ", PUNCT\n",
      "Espírito PROPN\n",
      "Santo PROPN\n",
      ", PUNCT\n",
      "Río PROPN\n",
      "de ADP\n",
      "Janeiro PROPN\n",
      ", PUNCT\n",
      "Alagoas PROPN\n",
      "y CCONJ\n",
      "Sergipe PROPN\n",
      ", PUNCT\n",
      "el DET\n",
      "menos ADV\n",
      "extenso ADJ\n",
      "— NOUN\n",
      "y CCONJ\n",
      "con ADP\n",
      "70,6 NUM\n",
      "hab PROPN\n",
      "/ PUNCT\n",
      "km² NOUN\n",
      "es AUX\n",
      "el DET\n",
      "séptimo ADJ\n",
      "más ADV\n",
      "densamente ADV\n",
      "poblado ADJ\n",
      ", PUNCT\n",
      "por ADP\n",
      "detrás ADV\n",
      "de ADP\n",
      "Río PROPN\n",
      "de ADP\n",
      "Janeiro PROPN\n",
      ", PUNCT\n",
      "São PROPN\n",
      "Paulo PROPN\n",
      ", PUNCT\n",
      "Alagoas PROPN\n",
      ", PUNCT\n",
      "Sergipe PROPN\n",
      ", PUNCT\n",
      "Pernambuco PROPN\n",
      "y CCONJ\n",
      "Espírito PROPN\n",
      "Santo PROPN\n",
      ". PUNCT\n",
      "El DET\n",
      "estado NOUN\n",
      ", PUNCT\n",
      "que PRON\n",
      "tiene VERB\n",
      "el DET\n",
      "3,4% SYM\n",
      "de ADP\n",
      "la DET\n",
      "población NOUN\n",
      "brasileña ADJ\n",
      ", PUNCT\n",
      "es AUX\n",
      "responsable ADJ\n",
      "del ADP\n",
      "3,8% SYM\n",
      "del ADP\n",
      "PIB PROPN\n",
      "brasileño ADJ\n",
      ". PUNCT\n",
      "\n",
      " SPACE\n"
     ]
    }
   ],
   "source": [
    "for elemento in documento:\n",
    "    print(elemento, elemento.pos_)"
   ]
  },
  {
   "cell_type": "code",
   "execution_count": 21,
   "metadata": {},
   "outputs": [
    {
     "name": "stdout",
     "output_type": "stream",
     "text": [
      "proper noun\n",
      "noun\n",
      "punctuation\n",
      "adjective\n",
      "numeral\n",
      "verb\n"
     ]
    }
   ],
   "source": [
    "#Palabra de abreviación\n",
    "print(spacy.explain('PROPN'))\n",
    "print(spacy.explain('NOUN'))\n",
    "print(spacy.explain('PUNCT'))\n",
    "print(spacy.explain('ADJ'))\n",
    "print(spacy.explain('NUM'))\n",
    "print(spacy.explain('VERB'))"
   ]
  },
  {
   "cell_type": "code",
   "execution_count": 22,
   "metadata": {},
   "outputs": [
    {
     "name": "stdout",
     "output_type": "stream",
     "text": [
      "Santa Catarina (en español: Santa Catalina) es uno de los veintiséis estados que, junto con el distrito federal, forman la República Federativa del Brasil.\n",
      "-\n",
      "Su capital es Florianópolis y su ciudad más poblada, Joinville.\n",
      "-\n",
      "Está ubicado en el centro de la región Sur del país.\n",
      "-\n",
      "Limita al norte con el río Iguazú que lo separa de Paraná, al este con el océano Atlántico, al sur con el río Uruguay que lo separa de Río Grande del Sur y al oeste con Argentina.\n",
      "-\n",
      "Con 95 346 km² es el séptimo menos extenso —por delante de Paraíba, Río Grande del Norte, Espírito Santo, Río de Janeiro, Alagoas y Sergipe, el menos extenso— y con 70,6 hab/km² es el séptimo más densamente poblado, por detrás de Río de Janeiro, São Paulo, Alagoas, Sergipe, Pernambuco y Espírito Santo.\n",
      "-\n",
      "El estado, que tiene el 3,4% de la población brasileña, es responsable del 3,8% del PIB brasileño.\n",
      "\n",
      "-\n"
     ]
    }
   ],
   "source": [
    "#Separa las oraciones de este objeto\n",
    "for oracion in documento.sents:\n",
    "    print(oracion)    \n",
    "    print('-')"
   ]
  },
  {
   "cell_type": "markdown",
   "metadata": {},
   "source": [
    "#### 1. Tokenización"
   ]
  },
  {
   "cell_type": "markdown",
   "metadata": {},
   "source": [
    "La tokenización es el proceso de dividir un texto en unidades más pequeñas llamadas tokens, que pueden ser palabras, frases o símbolos. Este paso es fundamental en el procesamiento de lenguaje natural (NLP) ya que facilita el análisis y la manipulación del texto. La tokenización ayuda a estructurar el texto de manera que los algoritmos puedan procesarlo de manera eficiente. Además, maneja aspectos como la eliminación de puntuación y la identificación de espacios en blanco para separar los tokens correctamente."
   ]
  },
  {
   "cell_type": "code",
   "execution_count": 23,
   "metadata": {},
   "outputs": [],
   "source": [
    "import spacy"
   ]
  },
  {
   "cell_type": "code",
   "execution_count": 24,
   "metadata": {},
   "outputs": [],
   "source": [
    "nlp = spacy.load('es_core_news_sm')"
   ]
  },
  {
   "cell_type": "code",
   "execution_count": 25,
   "metadata": {},
   "outputs": [
    {
     "name": "stdout",
     "output_type": "stream",
     "text": [
      "Un pasaje de avión, sin escalas, desde Uruguay hacia EE.UU. cuesta $471,88.\n"
     ]
    }
   ],
   "source": [
    "texto = \"Un pasaje de avión, sin escalas, desde Uruguay hacia EE.UU. cuesta $471,88.\"\n",
    "documento = nlp(texto)\n",
    "print(documento)"
   ]
  },
  {
   "cell_type": "code",
   "execution_count": 26,
   "metadata": {},
   "outputs": [
    {
     "name": "stdout",
     "output_type": "stream",
     "text": [
      "Un\n",
      "pasaje\n",
      "de\n",
      "avión\n",
      ",\n",
      "sin\n",
      "escalas\n",
      ",\n",
      "desde\n",
      "Uruguay\n",
      "hacia\n",
      "EE.UU.\n",
      "cuesta\n",
      "$\n",
      "471,88\n",
      ".\n"
     ]
    }
   ],
   "source": [
    "for elemento in documento:\n",
    "    print(elemento)\n",
    "    #print(type(elemento))"
   ]
  },
  {
   "cell_type": "code",
   "execution_count": 27,
   "metadata": {},
   "outputs": [
    {
     "name": "stdout",
     "output_type": "stream",
     "text": [
      "pasaje\n",
      "avión\n",
      ",\n",
      "escalas\n",
      ",\n",
      "Uruguay\n",
      "EE.UU.\n",
      "cuesta\n",
      "$\n",
      "471,88\n",
      ".\n"
     ]
    }
   ],
   "source": [
    "for elemento in documento:\n",
    "    #print(elemento.is_currency)\n",
    "    #print(elemento.lower_)\n",
    "    #print(elemento.is_punct)\n",
    "    if elemento.is_stop == False:\n",
    "        print(elemento)"
   ]
  },
  {
   "cell_type": "code",
   "execution_count": 28,
   "metadata": {},
   "outputs": [
    {
     "data": {
      "text/plain": [
       "16"
      ]
     },
     "execution_count": 28,
     "metadata": {},
     "output_type": "execute_result"
    }
   ],
   "source": [
    "len(documento)"
   ]
  },
  {
   "cell_type": "code",
   "execution_count": 29,
   "metadata": {},
   "outputs": [
    {
     "data": {
      "text/plain": [
       "Un pasaje de avión, sin escalas"
      ]
     },
     "execution_count": 29,
     "metadata": {},
     "output_type": "execute_result"
    }
   ],
   "source": [
    "documento[0:7]"
   ]
  },
  {
   "cell_type": "code",
   "execution_count": 30,
   "metadata": {},
   "outputs": [
    {
     "data": {
      "text/plain": [
       "Uruguay"
      ]
     },
     "execution_count": 30,
     "metadata": {},
     "output_type": "execute_result"
    }
   ],
   "source": [
    "documento[9]"
   ]
  },
  {
   "cell_type": "code",
   "execution_count": 31,
   "metadata": {},
   "outputs": [],
   "source": [
    "#documento[9] = 'URUGUAY'\n",
    "#Error debido a que el objeto token no acepta asignar valores"
   ]
  },
  {
   "cell_type": "markdown",
   "metadata": {},
   "source": [
    "#### 2. Lematización"
   ]
  },
  {
   "cell_type": "markdown",
   "metadata": {},
   "source": [
    "La lemmatización consiste en reducir las palabras a su forma base o lema, eliminando variaciones gramaticales como tiempos verbales, plurales o género. A diferencia de la stemming, que simplemente recorta los finales de las palabras, la lematización utiliza un análisis más profundo del contexto para garantizar que el lema resultante sea una palabra válida en el idioma. Este proceso mejora la precisión en tareas como la búsqueda de información, el análisis de sentimientos y la clasificación de texto, al unificar diferentes formas de una misma palabra."
   ]
  },
  {
   "cell_type": "code",
   "execution_count": 32,
   "metadata": {},
   "outputs": [],
   "source": [
    "import spacy\n",
    "import pandas as pd"
   ]
  },
  {
   "cell_type": "code",
   "execution_count": 33,
   "metadata": {},
   "outputs": [],
   "source": [
    "nlp = spacy.load('es_core_news_sm')"
   ]
  },
  {
   "cell_type": "code",
   "execution_count": 34,
   "metadata": {},
   "outputs": [],
   "source": [
    "texto = \"\"\" Los estudiosos aman estudiar, es por eso que son felices estudiando.\n",
    "            Su estudio es su felicidad.\n",
    "            Por eso estudian felizmente sus estudios.\n",
    "        \"\"\"\n",
    "documento = nlp(texto)"
   ]
  },
  {
   "cell_type": "code",
   "execution_count": 35,
   "metadata": {},
   "outputs": [
    {
     "name": "stdout",
     "output_type": "stream",
     "text": [
      "estudiosos\n",
      "estudioso\n",
      " - \n",
      "aman\n",
      "amar\n",
      " - \n",
      "estudiar\n",
      "estudiar\n",
      " - \n",
      "felices\n",
      "feliz\n",
      " - \n",
      "estudiando\n",
      "estudiar\n",
      " - \n",
      "estudio\n",
      "estudio\n",
      " - \n",
      "felicidad\n",
      "felicidad\n",
      " - \n",
      "estudian\n",
      "estudiar\n",
      " - \n",
      "felizmente\n",
      "felizmente\n",
      " - \n",
      "estudios\n",
      "estudio\n",
      " - \n"
     ]
    }
   ],
   "source": [
    "for token in documento:\n",
    "    if token.is_punct or token.is_stop or token.is_space:\n",
    "        continue\n",
    "    print(token)\n",
    "    print(token.lemma_)\n",
    "    print(' - ')"
   ]
  },
  {
   "cell_type": "code",
   "execution_count": 36,
   "metadata": {},
   "outputs": [],
   "source": [
    "cons_argentina = \"\"\"\n",
    "CONSTITUCION DE LA NACION ARGENTINA\n",
    "\n",
    "PREÁMBULO\n",
    "\n",
    "Nos los representantes del pueblo de la Nación Argentina, reunidos en Congreso General Constituyente por voluntad y elección de las provincias que la componen, en cumplimiento de pactos preexistentes, con el objeto de constituir la unión nacional, afianzar la justicia, consolidar la paz interior, proveer a la defensa común, promover el bienestar general, y asegurar los beneficios de la libertad, para nosotros, para nuestra posteridad, y para todos los hombres del mundo que quieran habitar en el suelo argentino: invocando la protección de Dios, fuente de toda razón y justicia: ordenamos, decretamos y establecemos esta Constitución, para la Nación Argentina.\n",
    "\n",
    "PRIMERA PARTE\n",
    "\n",
    "Capítulo Primero\n",
    "\n",
    "Declaraciones, derechos y garantías\n",
    "\n",
    "Artículo 1º.- La Nación Argentina adopta para su gobierno la forma representativa republicana federal, según la establece la presente Constitución.\n",
    "\n",
    "Artículo 2º.- El Gobierno federal sostiene el culto católico apostólico romano.\n",
    "\n",
    "Artículo 3º.- Las autoridades que ejercen el Gobierno federal, residen en la ciudad que se declare Capital de la República por una ley especial del Congreso, previa cesión hecha por una o más legislaturas provinciales, del territorio que haya de federalizarse.\n",
    "\n",
    "Artículo 4º.- El Gobierno federal provee a los gastos de la Nación con los fondos del Tesoro nacional formado del producto de derechos de importación y exportación, del de la venta o locación de tierras de propiedad nacional, de la renta de Correos, de las demás contribuciones que equitativa y proporcionalmente a la población imponga el Congreso General, y de los empréstitos y operaciones de crédito que decrete el mismo Congreso para urgencias de la Nación, o para empresas de utilidad nacional.\n",
    "\n",
    "Artículo 5º.- Cada provincia dictará para sí una Constitución bajo el sistema representativo republicano, de acuerdo con los principios, declaraciones y garantías de la Constitución Nacional; y que asegure su administración de justicia, su régimen municipal, y la educación primaria. Bajo de estas condiciones el Gobierno federal, garante a cada provincia el goce y ejercicio de sus instituciones.\n",
    "\n",
    "Artículo 6º.- El Gobierno federal interviene en el territorio de las provincias para garantir la forma republicana de gobierno, o repeler invasiones exteriores, y a requisición de sus autoridades constituidas para sostenerlas o restablecerlas, si hubiesen sido depuestas por la sedición, o por invasión de otra provincia.\n",
    "\n",
    "Artículo 7º.- Los actos públicos y procedimientos judiciales de una provincia gozan de entera fe en las demás; y el Congreso puede por leyes generales determinar cuál será la forma probatoria de estos actos y procedimientos, y los efectos legales que producirán.\n",
    "\n",
    "Artículo 8º.- Los ciudadanos de cada provincia gozan de todos los derechos, privilegios e inmunidades inherentes al título de ciudadano en las demás. La extradición de los criminales es de obligación recíproca entre todas las provincias.\n",
    "\n",
    "Artículo 9º.- En todo el territorio de la Nación no habrá más aduanas que las nacionales, en las cuales regirán las tarifas que sancione el Congreso.\n",
    "\n",
    "Artículo 10.- En el interior de la República es libre de derechos la circulación de los efectos de producción o fabricación nacional, así como la de los géneros y mercancías de todas clases, despachadas en las aduanas exteriores.\n",
    "\n",
    "Artículo 11.- Los artículos de producción o fabricación nacional o extranjera, así como los ganados de toda especie, que pasen por territorio de una provincia a otra, serán libres de los derechos llamados de tránsito, siéndolo también los carruajes, buques o bestias en que se transporten; y ningún otro derecho podrá imponérseles en adelante, cualquiera que sea su denominación, por el hecho de transitar el territorio.\n",
    "\n",
    "Artículo 12.- Los buques destinados de una provincia a otra, no serán obligados a entrar, anclar y pagar derechos por causa de tránsito, sin que en ningún caso puedan concederse preferencias a un puerto respecto de otro, por medio de leyes o reglamentos de comercio.\n",
    "\n",
    "Artículo 13.- Podrán admitirse nuevas provincias en la Nación; pero no podrá erigirse una provincia en el territorio de otra u otras, ni de varias formarse una sola, sin el consentimiento de la Legislatura de las provincias interesadas y del Congreso.\n",
    "\n",
    "Artículo 14.- Todos los habitantes de la Nación gozan de los siguientes derechos conforme a las leyes que reglamenten su ejercicio; a saber: de trabajar y ejercer toda industria lícita; de navegar y comerciar; de peticionar a las autoridades; de entrar, permanecer, transitar y salir del territorio argentino; de publicar sus ideas por la prensa sin censura previa; de usar y disponer de su propiedad; de asociarse con fines útiles; de profesar libremente su culto; de enseñar y aprender.\n",
    "\n",
    "Artículo 14 bis.- El trabajo en sus diversas formas gozará de la protección de las leyes, las que asegurarán al trabajador: condiciones dignas y equitativas de labor, jornada limitada; descanso y vacaciones pagados; retribución justa; salario mínimo vital móvil; igual remuneración por igual tarea; participación en las ganancias de las empresas, con control de la producción y colaboración en la dirección; protección contra el despido arbitrario; estabilidad del empleado público; organización sindical libre y democrática, reconocida por la simple inscripción en un registro especial.\n",
    "\n",
    "Queda garantizado a los gremios: concertar convenios colectivos de trabajo; recurrir a la conciliación y al arbitraje; el derecho de huelga. Los representantes gremiales gozarán de las garantías necesarias para el cumplimiento de su gestión sindical y las relacionadas con la estabilidad de su empleo.\n",
    "\n",
    "El Estado otorgará los beneficios de la seguridad social, que tendrá carácter de integral e irrenunciable. En especial, la ley establecerá: el seguro social obligatorio, que estará a cargo de entidades nacionales o provinciales con autonomía financiera y económica, administradas por los interesados con participación del Estado, sin que pueda existir superposición de aportes; jubilaciones y pensiones móviles; la protección integral de la familia; la defensa del bien de familia; la compensación económica familiar y el acceso a una vivienda digna.\n",
    "\n",
    "Artículo 15.- En la Nación Argentina no hay esclavos: los pocos que hoy existen quedan libres desde la jura de esta Constitución; y una ley especial reglará las indemnizaciones a que dé lugar esta declaración. Todo contrato de compra y venta de personas es un crimen de que serán responsables los que lo celebrasen, y el escribano o funcionario que lo autorice. Y los esclavos que de cualquier modo se introduzcan quedan libres por el solo hecho de pisar el territorio de la República.\n",
    "\n",
    "Artículo 16.- La Nación Argentina no admite prerrogativas de sangre, ni de nacimiento: no hay en ella fueros personales ni títulos de nobleza. Todos sus habitantes son iguales ante la ley, y admisibles en los empleos sin otra condición que la idoneidad. La igualdad es la base del impuesto y de las cargas públicas.\n",
    "\n",
    "Artículo 17.- La propiedad es inviolable, y ningún habitante de la Nación puede ser privado de ella, sino en virtud de sentencia fundada en ley. La expropiación por causa de utilidad pública, debe ser calificada por ley y previamente indemnizada. Sólo el Congreso impone las contribuciones que se expresan en el Artículo 4º. Ningún servicio personal es exigible, sino en virtud de ley o de sentencia fundada en ley. Todo autor o inventor es propietario exclusivo de su obra, invento o descubrimiento, por el término que le acuerde la ley. La confiscación de bienes queda borrada para siempre del Código Penal argentino. Ningún cuerpo armado puede hacer requisiciones, ni exigir auxilios de ninguna especie.\n",
    "\n",
    "Artículo 18.- Ningún habitante de la Nación puede ser penado sin juicio previo fundado en ley anterior al hecho del proceso, ni juzgado por comisiones especiales, o sacado de los jueces designados por la ley antes del hecho de la causa. Nadie puede ser obligado a declarar contra sí mismo; ni arrestado sino en virtud de orden escrita de autoridad competente. Es inviolable la defensa en juicio de la persona y de los derechos. El domicilio es inviolable, como también la correspondencia epistolar y los papeles privados; y una ley determinará en qué casos y con qué justificativos podrá procederse a su allanamiento y ocupación. Quedan abolidos para siempre la pena de muerte por causas políticas, toda especie de tormento y los azotes. Las cárceles de la Nación serán sanas y limpias, para seguridad y no para castigo de los reos detenidos en ellas, y toda medida que a pretexto de precaución conduzca a mortificarlos más allá de lo que aquélla exija, hará responsable al juez que la autorice.\n",
    "\n",
    "Artículo 19.- Las acciones privadas de los hombres que de ningún modo ofendan al orden y a la moral pública, ni perjudiquen a un tercero, están sólo reservadas a Dios, y exentas de la autoridad de los magistrados. Ningún habitante de la Nación será obligado a hacer lo que no manda la ley, ni privado de lo que ella no prohíbe.\n",
    "\n",
    "Artículo 20.- Los extranjeros gozan en el territorio de la Nación de todos los derechos civiles del ciudadano; pueden ejercer su industria, comercio y profesión; poseer bienes raíces, comprarlos y enajenarlos; navegar los ríos y costas; ejercer libremente su culto; testar y casarse conforme a las leyes. No están obligados a admitir la ciudadanía, ni a pagar contribuciones forzosas extraordinarias. Obtienen nacionalización residiendo dos años continuos en la Nación; pero la autoridad puede acortar este término a favor del que lo solicite, alegando y probando servicios a la República.\n",
    "\n",
    "Artículo 21.- Todo ciudadano argentino está obligado a armarse en defensa de la patria y de esta Constitución, conforme a las leyes que al efecto dicte el Congreso y a los decretos del Ejecutivo nacional. Los ciudadanos por naturalización son libres de prestar o no este servicio por el término de diez años contados desde el día en que obtengan su carta de ciudadanía.\n",
    "\n",
    "Artículo 22.- El pueblo no delibera ni gobierna, sino por medio de sus representantes y autoridades creadas por esta Constitución. Toda fuerza armada o reunión de personas que se atribuya los derechos del pueblo y peticione a nombre de éste, comete delito de sedición.\n",
    "\n",
    "Artículo 23.- En caso de conmoción interior o de ataque exterior que pongan en peligro el ejercicio de esta Constitución y de las autoridades creadas por ella, se declarará en estado de sitio la provincia o territorio en donde exista la perturbación del orden, quedando suspensas allí las garantías constitucionales. Pero durante esta suspensión no podrá el presidente de la República condenar por sí ni aplicar penas. Su poder se limitará en tal caso respecto de las personas, a arrestarlas o trasladarlas de un punto a otro de la Nación, si ellas no prefiriesen salir fuera del territorio argentino.\n",
    "\n",
    "Artículo 24.- El Congreso promoverá la reforma de la actual legislación en todos sus ramos, y el establecimiento del juicio por jurados.\n",
    "\n",
    "Artículo 25.- El Gobierno federal fomentará la inmigración europea; y no podrá restringir, limitar ni gravar con impuesto alguno la entrada en el territorio argentino de los extranjeros que traigan por objeto labrar la tierra, mejorar las industrias, e introducir y enseñar las ciencias y las artes.\n",
    "\n",
    "Artículo 26.- La navegación de los ríos interiores de la Nación es libre para todas las banderas, con sujeción únicamente a los reglamentos que dicte la autoridad nacional.\n",
    "\n",
    "Artículo 27.- El Gobierno federal está obligado a afianzar sus relaciones de paz y comercio con las potencias extranjeras por medio de tratados que estén en conformidad con los principios de derecho público establecidos en esta Constitución.\n",
    "\n",
    "Artículo 28.- Los principios, garantías y derechos reconocidos en los anteriores artículos, no podrán ser alterados por las leyes que reglamenten su ejercicio.\n",
    "\n",
    "Artículo 29.- El Congreso no puede conceder al Ejecutivo nacional, ni las Legislaturas provinciales a los gobernadores de provincia, facultades extraordinarias, ni la suma del poder público, ni otorgarles sumisiones o supremacías por las que la vida, el honor o las fortunas de los argentinos queden a merced de gobiernos o persona alguna. Actos de esta naturaleza llevan consigo una nulidad insanable, y sujetarán a los que los formulen, consientan o firmen, a la responsabilidad y pena de los infames traidores a la patria.\n",
    "\n",
    "Artículo 30.- La Constitución puede reformarse en el todo o en cualquiera de sus partes. La necesidad de reforma debe ser declarada por el Congreso con el voto de dos terceras partes, al menos, de sus miembros; pero no se efectuará sino por una Convención convocada al efecto.\n",
    "\n",
    "Artículo 31.- Esta Constitución, las leyes de la Nación que en su consecuencia se dicten por el Congreso y los tratados con las potencias extranjeras son la ley suprema de la Nación; y las autoridades de cada provincia están obligadas a conformarse a ella, no obstante cualquiera disposición en contrario que contengan las leyes o constituciones provinciales, salvo para la provincia de Buenos Aires, los tratados ratificados después del Pacto de 11 de noviembre de 1859.\n",
    "\n",
    "Artículo 32.- El Congreso federal no dictará leyes que restrinjan la libertad de imprenta o establezcan sobre ella la jurisdicción federal.\n",
    "\n",
    "Artículo 33.- Las declaraciones, derechos y garantías que enumera la Constitución no serán entendidos como negación de otros derechos y garantías no enumerados; pero que nacen del principio de la soberanía del pueblo y de la forma republicana de gobierno.\n",
    "\n",
    "Artículo 34.- Los jueces de las cortes federales no podrán serlo al mismo tiempo de los tribunales de provincia, ni el servicio federal, tanto en lo civil como en lo militar da residencia en la provincia en que se ejerza, y que no sea la del domicilio habitual del empleado, entendiéndose esto para los efectos de optar a empleos en la provincia en que accidentalmente se encuentren.\n",
    "\n",
    "Artículo 35.- Las denominaciones adoptadas sucesivamente desde 1810 hasta el presente, a saber: Provincias Unidas del Río de la Plata, República Argentina, Confederación Argentina, serán en adelante nombres oficiales indistintamente para la designación del Gobierno y territorio de las provincias, empleándose las palabras \"Nación Argentina\" en la formación y sanción de las leyes.\n",
    "\n",
    "CAPÍTULO SEGUNDO\n",
    "\n",
    "Nuevos derechos y garantías\n",
    "\n",
    "Artículo 36.- Esta Constitución mantendrá su imperio aun cuando se interrumpiere su observancia por actos de fuerza contra el orden institucional y el sistema democrático. Estos actos serán insanablemente nulos.\n",
    "\n",
    "Sus autores serán pasibles de la sanción prevista en el Artículo 29, inhabilitados a perpetuidad para ocupar cargos públicos y excluidos de los beneficios del indulto y la conmutación de penas.\n",
    "\n",
    "Tendrán las mismas sanciones quienes, como consecuencia de estos actos, usurparen funciones previstas para las autoridades de esta Constitución o las de las provincias, los que responderán civil y penalmente de sus actos. Las acciones respectivas serán imprescriptibles.\n",
    "\n",
    "Todos los ciudadanos tienen el derecho de resistencia contra quienes ejecutaren los actos de fuerza enunciados en este artículo.\n",
    "\n",
    "Atentará asimismo contra el sistema democrático quien incurriere en grave delito doloso contra el Estado que conlleve enriquecimiento, quedando inhabilitado por el tiempo que las leyes determinen para ocupar cargos o empleos públicos.\n",
    "\n",
    "El Congreso sancionará una ley sobre ética pública para el ejercicio de la función.\n",
    "\n",
    "Artículo 37.- Esta Constitución garantiza el pleno ejercicio de los derechos políticos, con arreglo al principio de la soberanía popular y de las leyes que se dicten en consecuencia. El sufragio es universal, igual, secreto y obligatorio.\n",
    "\n",
    "La igualdad real de oportunidades entre varones y mujeres para el acceso a cargos electivos y partidarios se garantizará por acciones positivas en la regulación de los partidos políticos y en el régimen electoral.\n",
    "\n",
    "Artículo 38.- Los partidos políticos son instituciones fundamentales del sistema democrático.\n",
    "\n",
    "Su creación y el ejercicio de sus actividades son libres dentro del respeto a esta Constitución, la que garantiza su organización y funcionamiento democráticos, la representación de las minorías, la competencia para la postulación de candidatos a cargos públicos electivos, el acceso a la información pública y la difusión de sus ideas.\n",
    "\n",
    "El Estado contribuye al sostenimiento económico de sus actividades y de la capacitación de sus dirigentes.\n",
    "\n",
    "Los partidos políticos deberán dar publicidad del origen y destino de sus fondos y patrimonio.\n",
    "\n",
    "Artículo 39.- Los ciudadanos tienen el derecho de iniciativa para presentar proyectos de ley en la Cámara de Diputados. El Congreso deberá darles expreso tratamiento dentro del término de doce meses.\n",
    "\n",
    "El Congreso, con el voto de la mayoría absoluta de la totalidad de los miembros de cada Cámara, sancionará una ley reglamentaria que no podrá exigir más del tres por ciento del padrón electoral nacional, dentro del cual deberá contemplar una adecuada distribución territorial para suscribir la iniciativa.\n",
    "\n",
    "No serán objeto de iniciativa popular los proyectos referidos a reforma constitucional, tratados internacionales, tributos, presupuesto y materia penal.\n",
    "\n",
    "Artículo 40.- El Congreso, a iniciativa de la Cámara de Diputados, podrá someter a consulta popular un proyecto de ley. La ley de convocatoria no podrá ser vetada. El voto afirmativo del proyecto por el pueblo de la Nación lo convertirá en ley y su promulgación será automática.\n",
    "\n",
    "El Congreso o el presidente de la Nación, dentro de sus respectivas competencias, podrán convocar a consulta popular no vinculante. En este caso el voto no será obligatorio.\n",
    "\n",
    "El Congreso, con el voto de la mayoría absoluta de la totalidad de los miembros de cada Cámara, reglamentará las materias, procedimientos y oportunidad de la consulta popular.\n",
    "\n",
    "Artículo 41.- Todos los habitantes gozan del derecho a un ambiente sano, equilibrado, apto para el desarrollo humano y para que las actividades productivas satisfagan las necesidades presentes sin comprometer las de las generaciones futuras; y tienen el deber de preservarlo. El daño ambiental generará prioritariamente la obligación de recomponer, según lo establezca la ley.\n",
    "\n",
    "Las autoridades proveerán a la protección de este derecho, a la utilización racional de los recursos naturales, a la preservación del patrimonio natural y cultural y de la diversidad biológica, y a la información y educación ambientales.\n",
    "\n",
    "Corresponde a la Nación dictar las normas que contengan los presupuestos mínimos de protección, y a las provincias, las necesarias para complementarlas, sin que aquéllas alteren las jurisdicciones locales.\n",
    "\n",
    "Se prohíbe el ingreso al territorio nacional de residuos actual o potencialmente peligrosos, y de los radiactivos.\n",
    "\n",
    "Artículo 42.- Los consumidores y usuarios de bienes y servicios tienen derecho, en la relación de consumo, a la protección de su salud, seguridad e intereses económicos; a una información adecuada y veraz; a la libertad de elección, y a condiciones de trato equitativo y digno.\n",
    "\n",
    "Las autoridades proveerán a la protección de esos derechos, a la educación para el consumo, a la defensa de la competencia contra toda forma de distorsión de los mercados, al control de los monopolios naturales y legales, al de la calidad y eficiencia de los servicios públicos, y a la constitución de asociaciones de consumidores y de usuarios.\n",
    "\n",
    "La legislación establecerá procedimientos eficaces para la prevención y solución de conflictos, y los marcos regulatorios de los servicios públicos de competencia nacional, previendo la necesaria participación de las asociaciones de consumidores y usuarios y de las provincias interesadas, en los organismos de control.\n",
    "\n",
    "Artículo 43.- Toda persona puede interponer acción expedita y rápida de amparo, siempre que no exista otro medio judicial más idóneo, contra todo acto u omisión de autoridades públicas o de particulares, que en forma actual o inminente lesione, restrinja, altere o amenace, con arbitrariedad o ilegalidad manifiesta, derechos y garantías reconocidos por esta Constitución, un tratado o una ley. En el caso, el juez podrá declarar la inconstitucionalidad de la norma en que se funde el acto u omisión lesiva.\n",
    "\n",
    "Podrán interponer esta acción contra cualquier forma de discriminación y en lo relativo a los derechos que protegen al ambiente, a la competencia, al usuario y al consumidor, así como a los derechos de incidencia colectiva en general, el afectado, el defensor del pueblo y las asociaciones que propendan a esos fines, registradas conforme a la ley, la que determinará los requisitos y formas de su organización.\n",
    "\n",
    "Toda persona podrá interponer esta acción para tomar conocimiento de los datos a ella referidos y de su finalidad, que consten en registros o bancos de datos públicos, o los privados destinados a proveer informes, y en caso de falsedad o discriminación, para exigir la supresión, rectificación, confidencialidad o actualización de aquéllos. No podrá afectarse el secreto de las fuentes de información periodística.\n",
    "\n",
    "Cuando el derecho lesionado, restringido, alterado o amenazado fuera la libertad física, o en caso de agravamiento ilegítimo en la forma o condiciones de detención, o en el de desaparición forzada de personas, la acción de hábeas corpus podrá ser interpuesta por el afectado o por cualquiera en su favor y el juez resolverá de inmediato, aun durante la vigencia del estado de sitio.\n",
    "\n",
    "SEGUNDA PARTE\n",
    "\n",
    "AUTORIDADES DE LA NACION\n",
    "\n",
    "TITULO PRIMERO\n",
    "\n",
    "GOBIERNO FEDERAL\n",
    "\n",
    "SECCION PRIMERA\n",
    "\n",
    "DEL PODER LEGISLATIVO\n",
    "\n",
    "Artículo 44.- Un Congreso compuesto de dos Cámaras, una de Diputados de la Nación y otra de Senadores de las provincias y de la ciudad de Buenos Aires, será investido del Poder Legislativo de la Nación.\n",
    "\n",
    "CAPÍTULO PRIMERO\n",
    "\n",
    "De la Cámara de Diputados\n",
    "\n",
    "Artículo 45.- La Cámara de Diputados se compondrá de representantes elegidos directamente por el pueblo de las provincias, de la ciudad de Buenos Aires, y de la Capital en caso de traslado, que se consideran a este fin como distritos electorales de un solo Estado y a simple pluralidad de sufragios. El número de representantes será de uno por cada treinta y tres mil habitantes o fracción que no baje de dieciséis mil quinientos. Después de la realización de cada censo, el Congreso fijará la representación con arreglo al mismo, pudiendo aumentar pero no disminuir la base expresada para cada diputado.\n",
    "\n",
    "Artículo 46.- Los diputados para la primera Legislatura se nombrarán en la proporción siguiente: por la provincia de Buenos Aires doce: por la de Córdoba seis: por la de Catamarca tres: por la de Corrientes cuatro: por la de Entre Ríos dos: por la de Jujuy dos: por la de Mendoza tres: por la de La Rioja dos: por la de Salta tres: por la de Santiago cuatro: por la de San Juan dos: por la de Santa Fe dos: por la de San Luis dos: y por la de Tucumán tres.\n",
    "\n",
    "Artículo 47.- Para la segunda Legislatura deberá realizarse el censo general, y arreglarse a él el número de diputados; pero este censo sólo podrá renovarse cada diez años.\n",
    "\n",
    "Artículo 48.- Para ser diputado se requiere haber cumplido la edad de veinticinco años, tener cuatro años de ciudadanía en ejercicio, y ser natural de la provincia que lo elija, o con dos años de residencia inmediata en ella.\n",
    "\n",
    "Artículo 49.- Por esta vez las Legislaturas de las provincias reglarán los medios de hacer efectiva la elección directa de los diputados de la Nación: para lo sucesivo el Congreso expedirá una ley general.\n",
    "\n",
    "Artículo 50.- Los diputados durarán en su representación por cuatro años, y son reelegibles; pero la Sala se renovará por mitad cada bienio; a cuyo efecto los nombrados para la primera Legislatura, luego que se reúnan, sortearán los que deban salir en el primer período.\n",
    "\n",
    "Artículo 51.- En caso de vacante, el Gobierno de provincia, o de la Capital, hace proceder a elección legal de un nuevo miembro.\n",
    "\n",
    "Artículo 52.- A la Cámara de Diputados corresponde exclusivamente la iniciativa de las leyes sobre contribuciones y reclutamiento de tropas.\n",
    "\n",
    "Artículo 53.- Sólo ella ejerce el derecho de acusar ante el Senado al presidente, vicepresidente, al jefe de gabinete de ministros, a los ministros y a los miembros de la Corte Suprema, en las causas de responsabilidad que se intenten contra ellos, por mal desempeño o por delito en el ejercicio de sus funciones; o por crímenes comunes, después de haber conocido de ellos y declarado haber lugar a la formación de causa por la mayoría de dos terceras partes de sus miembros presentes.\n",
    "\n",
    "CAPÍTULO SEGUNDO\n",
    "\n",
    "Del Senado\n",
    "\n",
    "Artículo 54.- El Senado se compondrá de tres senadores por cada provincia y tres por la ciudad de Buenos Aires, elegidos en forma directa y conjunta, correspondiendo dos bancas al partido político que obtenga el mayor número de votos, y la restante al partido político que le siga en número de votos. Cada senador tendrá un voto.\n",
    "\n",
    "Artículo 55.- Son requisitos para ser elegido senador: tener la edad de treinta años, haber sido seis años ciudadano de la Nación, disfrutar de una renta anual de dos mil pesos fuertes o de una entrada equivalente, y ser natural de la provincia que lo elija, o con dos años de residencia inmediata en ella.\n",
    "\n",
    "Artículo 56.- Los senadores duran seis años en el ejercicio de su mandato, y son reelegibles indefinidamente; pero el Senado se renovará a razón de una tercera parte de los distritos electorales cada dos años.\n",
    "\n",
    "Artículo 57.- El vicepresidente de la Nación será presidente del Senado; pero no tendrá voto sino en el caso que haya empate en la votación.\n",
    "\n",
    "Artículo 58.- El Senado nombrará un presidente provisorio que lo presida en caso de ausencia del vicepresidente, o cuando éste ejerce las funciones de presidente de la Nación.\n",
    "\n",
    "Artículo 59.- Al Senado corresponde juzgar en juicio público a los acusados por la Cámara de Diputados, debiendo sus miembros prestar juramento para este acto. Cuando el acusado sea el presidente de la Nación, el Senado será presidido por el presidente de la Corte Suprema. Ninguno será declarado culpable sino a mayoría de los dos tercios de los miembros presentes.\n",
    "\n",
    "Artículo 60.- Su fallo no tendrá más efecto que destituir al acusado, y aun declararle incapaz de ocupar ningún empleo de honor, de confianza o a sueldo en la Nación. Pero la parte condenada quedará, no obstante, sujeta a acusación, juicio y castigo conforme a las leyes ante los tribunales ordinarios.\n",
    "\n",
    "Artículo 61.- Corresponde también al Senado autorizar al presidente de la Nación para que declare en estado de sitio, uno o varios puntos de la República en caso de ataque exterior.\n",
    "\n",
    "Artículo 62.- Cuando vacase alguna plaza de senador por muerte, renuncia u otra causa, el Gobierno a que corresponda la vacante hace proceder inmediatamente a la elección de un nuevo miembro.\n",
    "\n",
    "CAPITULO TERCERO\n",
    "\n",
    "Disposiciones comunes a ambas Cámaras\n",
    "\n",
    "Artículo 63.- Ambas Cámaras se reunirán por sí mismas en sesiones ordinarias todos los años desde el primero de marzo hasta el treinta de noviembre. Pueden también ser convocadas extraordinariamente por el Presidente de la Nación o prorrogadas sus sesiones.\n",
    "\n",
    "Artículo 64.- Cada Cámara es juez de las elecciones, derechos y títulos de sus miembros en cuanto a su validez. Ninguna de ellas entrará en sesión sin la mayoría absoluta de sus miembros; pero un número menor podrá compeler a los miembros ausentes a que concurran a las sesiones, en los términos y bajo las penas que cada Cámara establecerá.\n",
    "\n",
    "Artículo 65.- Ambas Cámaras empiezan y concluyen sus sesiones simultáneamente. Ninguna de ellas, mientras se hallen reunidas, podrá suspender sus sesiones más de tres días, sin el consentimiento de la otra.\n",
    "\n",
    "Artículo 66.- Cada Cámara hará su reglamento y podrá con dos tercios de votos, corregir a cualquiera de sus miembros por desorden de conducta en el ejercicio de sus funciones, o removerlo por inhabilidad física o moral sobreviniente a su incorporación, y hasta excluirle de su seno; pero bastará la mayoría de uno sobre la mitad de los presentes para decidir en las renuncias que voluntariamente hicieren de sus cargos.\n",
    "\n",
    "Artículo 67.- Los senadores y diputados prestarán, en el acto de su incorporación, juramento de desempeñar debidamente el cargo, y de obrar en todo en conformidad a lo que prescribe esta Constitución.\n",
    "\n",
    "Artículo 68.- Ninguno de los miembros del Congreso puede ser acusado, interrogado judicialmente, ni molestado por las opiniones o discursos que emita desempeñando su mandato de legislador.\n",
    "\n",
    "Artículo 69.- Ningún senador o diputado, desde el día de su elección hasta el de su cese, puede ser arrestado; excepto el caso de ser sorprendido in fraganti en la ejecución de algún crimen que merezca pena de muerte, infamante, u otra aflictiva; de lo que se dará cuenta a la Cámara respectiva con la información sumaria del hecho.\n",
    "\n",
    "Artículo 70.- Cuando se forme querella por escrito ante las justicias ordinarias contra cualquier senador o diputado, examinado el mérito del sumario en juicio público, podrá cada Cámara, con dos tercios de votos, suspender en sus funciones al acusado, y ponerlo a disposición del juez competente para su juzgamiento.\n",
    "\n",
    "Artículo 71.- Cada una de las Cámaras puede hacer venir a su sala a los ministros del Poder Ejecutivo para recibir las explicaciones e informes que estime convenientes.\n",
    "\n",
    "Artículo 72.- Ningún miembro del Congreso podrá recibir empleo o comisión del Poder Ejecutivo, sin previo consentimiento de la Cámara respectiva, excepto los empleos de escala.\n",
    "\n",
    "Artículo 73.- Los eclesiásticos regulares no pueden ser miembros del Congreso, ni los gobernadores de provincia por la de su mando.\n",
    "\n",
    "Artículo 74.- Los servicios de los senadores y diputados son remunerados por el Tesoro de la Nación, con una dotación que señalará la ley.\n",
    "\n",
    "CAPITULO CUARTO\n",
    "\n",
    "Atribuciones del Congreso\n",
    "\n",
    "Artículo 75.- Corresponde al Congreso:\n",
    "\n",
    "1. Legislar en materia aduanera. Establecer los derechos de importación y exportación, los cuales, así como las avaluaciones sobre las que recaigan, serán uniformes en toda la Nación.\n",
    "\n",
    "2. Imponer contribuciones indirectas como facultad concurrente con las provincias. Imponer contribuciones directas, por tiempo determinado, proporcionalmente iguales en todo el territorio de la Nación, siempre que la defensa, seguridad común y bien general del Estado lo exijan. Las contribuciones previstas en este inciso, con excepción de la parte o el total de las que tengan asignación específica, son coparticipables.\n",
    "\n",
    "Una ley convenio, sobre la base de acuerdos entre la Nación y las provincias, instituirá regímenes de coparticipación de estas contribuciones, garantizando la automaticidad en la remisión de los fondos.\n",
    "\n",
    "La distribución entre la Nación, las provincias y la ciudad de Buenos Aires y entre éstas, se efectuará en relación directa a las competencias, servicios y funciones de cada una de ellas contemplando criterios objetivos de reparto; será equitativa, solidaria y dará prioridad al logro de un grado equivalente de desarrollo, calidad de vida e igualdad de oportunidades en todo el territorio nacional.\n",
    "\n",
    "La ley convenio tendrá como Cámara de origen el Senado y deberá ser sancionada con la mayoría absoluta de la totalidad de los miembros de cada Cámara, no podrá ser modificada unilateralmente ni reglamentada y será aprobada por las provincias.\n",
    "\n",
    "No habrá transferencia de competencias, servicios o funciones sin la respectiva reasignación de recursos, aprobada por ley del Congreso cuando correspondiere y por la provincia interesada o la ciudad de Buenos Aires en su caso.\n",
    "\n",
    "Un organismo fiscal federal tendrá a su cargo el control y fiscalización de la ejecución de lo establecido en este inciso, según lo determina la ley, la que deberá asegurar la representación de todas las provincias y la ciudad de Buenos Aires en su composición.\n",
    "\n",
    "3. Establecer y modificar asignaciones específicas de recursos coparticipables, por tiempo determinado, por ley especial aprobada por la mayoría absoluta de la totalidad de los miembros de cada Cámara.\n",
    "\n",
    "4. Contraer empréstitos sobre el crédito de la Nación.\n",
    "\n",
    "5. Disponer del uso y de la enajenación de las tierras de propiedad nacional.\n",
    "\n",
    "6. Establecer y reglamentar un banco federal con facultad de emitir moneda, así como otros bancos nacionales.\n",
    "\n",
    "7. Arreglar el pago de la deuda interior y exterior de la Nación.\n",
    "\n",
    "8. Fijar anualmente, conforme a las pautas establecidas en el tercer párrafo del inc. 2 de este artículo, el presupuesto general de gastos y cálculo de recursos de la administración nacional, en base al programa general de gobierno y al plan de inversiones públicas y aprobar o desechar la cuenta de inversión.\n",
    "\n",
    "9. Acordar subsidios del Tesoro nacional a las provincias, cuyas rentas no alcancen, según sus presupuestos, a cubrir sus gastos ordinarios.\n",
    "\n",
    "10. Reglamentar la libre navegación de los ríos interiores, habilitar los puertos que considere convenientes, y crear o suprimir aduanas.\n",
    "\n",
    "11. Hacer sellar moneda, fijar su valor y el de las extranjeras; y adoptar un sistema uniforme de pesos y medidas para toda la Nación.\n",
    "\n",
    "12. Dictar los Códigos Civil, Comercial, Penal, de Minería, y del Trabajo y Seguridad Social, en cuerpos unificados o separados, sin que tales códigos alteren las jurisdicciones locales, correspondiendo su aplicación a los tribunales federales o provinciales, según que las cosas o las personas cayeren bajo sus respectivas jurisdicciones; y especialmente leyes generales para toda la Nación sobre naturalización y nacionalidad, con sujeción al principio de nacionalidad natural y por opción en beneficio de la argentina: así como sobre bancarrotas, sobre falsificación de la moneda corriente y documentos públicos del Estado, y las que requiera el establecimiento del juicio por jurados.\n",
    "\n",
    "13. Reglar el comercio con las naciones extranjeras, y de las provincias entre sí.\n",
    "\n",
    "14. Arreglar y establecer los correos generales de la Nación.\n",
    "\n",
    "15. Arreglar definitivamente los límites del territorio de la Nación, fijar los de las provincias, crear otras nuevas, y determinar por una legislación especial la organización, administración y gobierno que deben tener los territorios nacionales, que queden fuera de los límites que se asignen a las provincias.\n",
    "\n",
    "16. Proveer a la seguridad de las fronteras.\n",
    "\n",
    "17. Reconocer la preexistencia étnica y cultural de los pueblos indígenas argentinos.\n",
    "\n",
    "Garantizar el respeto a su identidad y el derecho a una educación bilingüe e intercultural; reconocer la personería Jurídica de sus comunidades, y la posesión y propiedad comunitarias de las tierras que tradicionalmente ocupan; y regular la entrega de otras aptas y suficientes para el desarrollo humano; ninguna de ellas será enajenable, transmisible ni susceptible de gravámenes o embargos. Asegurar su participación en la gestión referida a sus recursos naturales y a los demás intereses que los afecten. Las provincias pueden ejercer concurrentemente estas atribuciones.\n",
    "\n",
    "18. Proveer lo conducente a la prosperidad del país, al adelanto y bienestar de todas las provincias, y al progreso de la ilustración, dictando planes de instrucción general y universitaria, y promoviendo la industria, la inmigración, la construcción de ferrocarriles y canales navegables, la colonización de tierras de propiedad nacional, la introducción y establecimiento de nuevas industrias, la importación de capitales extranjeros y la exploración de los ríos interiores, por leyes protectoras de estos fines y por concesiones temporales de privilegios y recompensas de estímulo.\n",
    "\n",
    "19. Proveer lo conducente al desarrollo humano, al progreso económico con justicia social, a la productividad de la economía nacional, a la generación de empleo, a la formación profesional de los trabajadores, a la defensa del valor de la moneda, a la investigación y al desarrollo científico y tecnológico, su difusión y aprovechamiento.\n",
    "\n",
    "Proveer al crecimiento armónico de la Nación y al poblamiento de su territorio; promover políticas diferenciadas que tiendan a equilibrar el desigual desarrollo relativo de provincias y regiones. Para estas iniciativas, el Senado será Cámara de origen.\n",
    "\n",
    "Sancionar leyes de organización y de base de la educación que consoliden la unidad nacional respetando las particularidades provinciales y locales; que aseguren la responsabilidad indelegable del Estado, la participación de la familia y la sociedad, la promoción de los valores democráticos y la igualdad de oportunidades y posibilidades sin discriminación alguna; y que garanticen los principios de gratuidad y equidad de la educación pública estatal y la autonomía y autarquía de las universidades nacionales.\n",
    "\n",
    "Dictar leyes que protejan la identidad y pluralidad cultural, la libre creación y circulación de las obras del autor; el patrimonio artístico y los espacios culturales y audiovisuales.\n",
    "\n",
    "20. Establecer tribunales inferiores a la Corte Suprema de Justicia; crear y suprimir empleos, fijar sus atribuciones, dar pensiones, decretar honores, y conceder amnistías generales.\n",
    "\n",
    "21. Admitir o desechar los motivos de dimisión del presidente o vicepresidente de la República; y declarar el caso de proceder a nueva elección.\n",
    "\n",
    "22. Aprobar o desechar tratados concluidos con las demás naciones y con las organizaciones internacionales y los concordatos con la Santa Sede. Los tratados y concordatos tienen jerarquía superior a las leyes.\n",
    "\n",
    "La Declaración Americana de los Derechos y Deberes del Hombre; la Declaración Universal de Derechos Humanos; la Convención Americana sobre Derechos Humanos; el Pacto Internacional de Derechos Económicos, Sociales y Culturales; el Pacto Internacional de Derechos Civiles y Políticos y su Protocolo Facultativo; la Convención sobre la Prevención y la Sanción del Delito de Genocidio; la Convención Internacional sobre la Eliminación de todas las Formas de Discriminación Racial; la Convención sobre la Eliminación de todas las Formas de Discriminación contra la Mujer; la Convención contra la Tortura y otros Tratos o Penas Crueles, Inhumanos o Degradantes; la Convención sobre los Derechos del Niño; en las condiciones de su vigencia, tienen jerarquía constitucional, no derogan artículo alguno de la primera parte de esta Constitución y deben entenderse complementarios de los derechos y garantías por ella reconocidos. Sólo podrán ser denunciados, en su caso, por el Poder Ejecutivo Nacional, previa aprobación de las dos terceras partes de la totalidad de los miembros de cada Cámara.\n",
    "\n",
    "Los demás tratados y convenciones sobre derechos humanos, luego de ser aprobados por el Congreso, requerirán del voto de las dos terceras partes de la totalidad de los miembros de cada Cámara para gozar de la jerarquía constitucional.\n",
    "\n",
    "23. Legislar y promover medidas de acción positiva que garanticen la igualdad real de oportunidades y de trato, y el pleno goce y ejercicio de los derechos reconocidos por esta Constitución y por los tratados internacionales vigentes sobre derechos humanos, en particular respecto de los niños, las mujeres, los ancianos y las personas con discapacidad.\n",
    "\n",
    "Dictar un régimen de seguridad social especial e integral en protección del niño en situación de desamparo, desde el embarazo hasta la finalización del período de enseñanza elemental, y de la madre durante el embarazo y el tiempo de lactancia.\n",
    "\n",
    "24. Aprobar tratados de integración que deleguen competencias y jurisdicción a organizaciones supraestatales en condiciones de reciprocidad e igualdad, y que respeten el orden democrático y los derechos humanos. Las normas dictadas en su consecuencia tienen jerarquía superior a las leyes.\n",
    "\n",
    "La aprobación de estos tratados con Estados de Latinoamérica requerirá la mayoría absoluta de la totalidad de los miembros de cada Cámara. En el caso de tratados con otros Estados, el Congreso de la Nación, con la mayoría absoluta de los miembros presentes de cada Cámara, declarará la conveniencia de la aprobación del tratado y sólo podrá ser aprobado con el voto de la mayoría absoluta de la totalidad de los miembros de cada Cámara, después de ciento veinte días del acto declarativo.\n",
    "\n",
    "La denuncia de los tratados referidos a este inciso, exigirá la previa aprobación de la mayoría absoluta de la totalidad da los miembros de cada Cámara.\n",
    "\n",
    "25. Autorizar al Poder Ejecutivo para declarar la guerra o hacer la paz.\n",
    "\n",
    "26. Facultar al Poder Ejecutivo para ordenar represalias, y establecer reglamentos para las presas.\n",
    "\n",
    "27. Fijar las fuerzas armadas en tiempo de paz y guerra, y dictar las normas para su organización y gobierno.\n",
    "\n",
    "28. Permitir la introducción de tropas extranjeras en el territorio de la Nación, y la salida de las fuerzas nacionales fuera de él.\n",
    "\n",
    "29. Declarar en estado de sitio uno o varios puntos de la Nación en caso de conmoción interior, y aprobar o suspender el estado de sitio declarado, durante su receso, por el Poder Ejecutivo.\n",
    "\n",
    "30. Ejercer una legislación exclusiva en el territorio de la capital de la Nación y dictar la legislación necesaria para el cumplimiento de los fines específicos de los establecimientos de utilidad nacional en el territorio de la República. Las autoridades provinciales y municipales conservarán los poderes de policía e imposición sobre estos establecimientos, en tanto no interfieran en el cumplimiento de aquellos fines.\n",
    "\n",
    "31. Disponer la intervención federal a una provincia o a la ciudad de Buenos Aires.\n",
    "\n",
    "Aprobar o revocar la intervención decretada, durante su receso, por el Poder Ejecutivo.\n",
    "\n",
    "32. Hacer todas las leyes y reglamentos que sean convenientes para poner en ejercicio los poderes antecedentes, y todos los otros concedidos por la presente Constitución al Gobierno de la Nación Argentina.\n",
    "\n",
    "Artículo 76.- Se prohíbe la delegación legislativa en el Poder Ejecutivo, salvo en materias determinadas de administración o de emergencia pública, con plazo fijado para su ejercicio y dentro de las bases de la delegación que el Congreso establezca.\n",
    "\n",
    "La caducidad resultante del transcurso del plazo previsto en el párrafo anterior no importará revisión de las relaciones jurídicas nacidas al amparo de las normas dictadas en consecuencia de la delegación legislativa.\n",
    "\n",
    "CAPÍTULO QUINTO\n",
    "\n",
    "De la formación y sanción de las leyes\n",
    "\n",
    "Artículo 77.- Las leyes pueden tener principio en cualquiera de las Cámaras del Congreso, por proyectos presentados por sus miembros o por el Poder Ejecutivo, salvo las excepciones que establece esta Constitución.\n",
    "\n",
    "Los proyectos de ley que modifiquen el régimen electoral y de partidos políticos deberán ser aprobados por mayoría absoluta del total de los miembros de las Cámaras.\n",
    "\n",
    "Artículo 78.- Aprobado un proyecto de ley por la Cámara de su origen, pasa para su discusión a la otra Cámara. Aprobado por ambas, pasa al Poder Ejecutivo de la Nación para su examen; y si también obtiene su aprobación, lo promulga como ley.\n",
    "\n",
    "Artículo 79.- Cada Cámara, luego de aprobar un proyecto de ley en general, puede delegar en sus comisiones la aprobación en particular del proyecto, con el voto de la mayoría absoluta del total de sus miembros. La Cámara podrá, con igual número de votos, dejar sin efecto la delegación y retomar el trámite ordinario. La aprobación en comisión requerirá el voto de la mayoría absoluta del total de sus miembros. Una vez aprobado el proyecto en comisión, se seguirá el trámite ordinario.\n",
    "\n",
    "Artículo 80.- Se reputa aprobado por el Poder Ejecutivo todo proyecto no devuelto en el término de diez días útiles. Los proyectos desechados parcialmente no podrán ser aprobados en la parte restante. Sin embargo, las partes no observadas solamente podrán ser promulgadas si tienen autonomía normativa y su aprobación parcial no altera el espíritu ni la unidad del proyecto sancionado por el Congreso. En este caso será de aplicación el procedimiento previsto para los decretos de necesidad y urgencia.\n",
    "\n",
    "Artículo 81.- Ningún proyecto de ley desechado totalmente por una de las Cámaras podrá repetirse en las sesiones de aquel año. Ninguna de las Cámaras puede desechar totalmente un proyecto que hubiera tenido origen en ella y luego hubiese sido adicionado o enmendado por la Cámara revisora. Si el proyecto fuere objeto de adiciones o correcciones por la Cámara revisora, deberá indicarse el resultado de la votación a fin de establecer si tales adiciones o correcciones fueron realizadas por mayoría absoluta de los presentes o por las dos terceras partes de los presentes. La Cámara de origen podrá por mayoría absoluta de los presentes aprobar el proyecto con las adiciones o correcciones introducidas o insistir en la redacción originaria, a menos que las adiciones o correcciones las haya realizado la revisora por dos terceras partes de los presentes. En este último caso, el proyecto pasará al Poder Ejecutivo con las adiciones o correcciones de la Cámara revisora, salvo que la Cámara de origen insista en su redacción originaria con el voto de las dos terceras partes de los presentes. La Cámara de origen no podrá introducir nuevas adiciones o correcciones a las realizadas por la Cámara revisora.\n",
    "\n",
    "Artículo 82.- La voluntad de cada Cámara debe manifestarse expresamente; se excluye, en todos los casos, la sanción tácita o ficta.\n",
    "\n",
    "Artículo 83.- Desechado en el todo o en parte un proyecto por el Poder Ejecutivo, vuelve con sus objeciones a la Cámara de su origen: ésta lo discute de nuevo, y si lo confirma por mayoría de dos tercios de votos, pasa otra vez a la Cámara de revisión. Si ambas Cámaras lo sancionan por igual mayoría, el proyecto es ley y pasa al Poder Ejecutivo para su promulgación. Las votaciones de ambas Cámaras serán en este caso nominales, por si o por no; y tanto los nombres y fundamentos de los sufragantes, como las objeciones del Poder Ejecutivo, se publicarán inmediatamente por la prensa. Si las Cámaras difieren sobre las objeciones, el proyecto no podrá repetirse en las sesiones de aquel año.\n",
    "\n",
    "Artículo 84.- En la sanción de las leyes se usará de esta fórmula: El Senado y Cámara de Diputados de la Nación Argentina, reunidos en Congreso, ... decretan o sancionan con fuerza de ley.\n",
    "\n",
    "CAPITULO SEXTO\n",
    "\n",
    "De la Auditoría General de la Nación\n",
    "\n",
    "Artículo 85.- El control externo del sector público nacional en sus aspectos patrimoniales, económicos, financieros y operativos, será una atribución propia del Poder Legislativo.\n",
    "\n",
    "El examen y la opinión del Poder Legislativo sobre el desempeño y situación general de la administración pública estarán sustentados en los dictámenes de la Auditoría General de la Nación.\n",
    "\n",
    "Este organismo de asistencia técnica del Congreso, con autonomía funcional, se integrará del modo que establezca la ley que reglamenta su creación y funcionamiento, que deberá ser aprobada por mayoría absoluta de los miembros de cada Cámara. El presidente del organismo será designado a propuesta del partido político de oposición con mayor número de legisladores en el Congreso.\n",
    "\n",
    "Tendrá a su cargo el control de legalidad, gestión y auditoría de toda la actividad de la administración pública centralizada y descentralizada, cualquiera fuera su modalidad de organización, y las demás funciones que la ley le otorgue. Intervendrá necesariamente en el trámite de aprobación o rechazo de las cuentas de percepción e inversión de los fondos públicos.\n",
    "\n",
    "CAPÍTULO SEPTIMO\n",
    "\n",
    "Del Defensor del Pueblo\n",
    "\n",
    "Artículo 86.- El Defensor del Pueblo es un órgano independiente instituido en el ámbito del Congreso de la Nación, que actuará con plena autonomía funcional, sin recibir instrucciones de ninguna autoridad. Su misión es la defensa y protección de los derechos humanos y demás derechos, garantías e intereses tutelados en esta Constitución y las leyes, ante hechos, actos u omisiones de la Administración; y el control del ejercicio de las funciones administrativas públicas.\n",
    "\n",
    "El Defensor del Pueblo tiene legitimación procesal. Es designado y removido por el Congreso con el voto de las dos terceras partes de los miembros presentes de cada una de las Cámaras. Goza de las inmunidades y privilegios de los legisladores. Durará en su cargo cinco años, pudiendo ser nuevamente designado por una sola vez.\n",
    "\n",
    "La organización y el funcionamiento de esta institución serán regulados por una ley especial.\n",
    "\n",
    "SECCIÓN SEGUNDA\n",
    "\n",
    "DEL PODER EJECUTIVO\n",
    "\n",
    "CAPÍTULO PRIMERO\n",
    "\n",
    "De su naturaleza y duración\n",
    "\n",
    "Artículo 87.- El Poder Ejecutivo de la Nación será desempeñado por un ciudadano con el título de \"Presidente de la Nación Argentina\".\n",
    "\n",
    "Artículo 88.- En caso de enfermedad, ausencia de la Capital, muerte, renuncia o destitución del Presidente, el Poder Ejecutivo será ejercido por el vicepresidente de la Nación. En caso de destitución, muerte, dimisión o inhabilidad del Presidente y vicepresidente de la Nación, el Congreso determinará qué funcionario público ha de desempeñar la Presidencia, hasta que haya cesado la causa de la inhabilidad o un nuevo presidente sea electo.\n",
    "\n",
    "Artículo 89.- Para ser elegido Presidente o vicepresidente de la Nación, se requiere haber nacido en el territorio argentino, o ser hijo de ciudadano nativo, habiendo nacido en país extranjero; y las demás calidades exigidas para ser elegido senador.\n",
    "\n",
    "Artículo 90.- El Presidente y vicepresidente duran en sus funciones el término de cuatro años y podrán ser reelegidos o sucederse recíprocamente por un solo período consecutivo. Si han sido reelectos o se han sucedido recíprocamente no pueden ser elegidos para ninguno de ambos cargos, sino con el intervalo de un período.\n",
    "\n",
    "Artículo 91.- El Presidente de la Nación cesa en el poder el mismo día en que expira su período de cuatro años; sin que evento alguno que lo haya interrumpido, pueda ser motivo de que se le complete más tarde.\n",
    "\n",
    "Artículo 92.- El Presidente y vicepresidente disfrutan de un sueldo pagado por el Tesoro de la Nación, que no podrá ser alterado en el período de sus nombramientos. Durante el mismo período no podrán ejercer otro empleo, ni recibir ningún otro emolumento de la Nación, ni de provincia alguna.\n",
    "\n",
    "Artículo 93.- Al tomar posesión de su cargo el presidente y vicepresidente prestarán juramento, en manos del presidente del Senado y ante el Congreso reunido en Asamblea, respetando sus creencias religiosas, de \"desempeñar con lealtad y patriotismo el cargo de Presidente (o vicepresidente) de la Nación y observar y hacer observar fielmente la Constitución de la Nación Argentina\".\n",
    "\n",
    "CAPÍTULO SEGUNDO\n",
    "\n",
    "De la forma y tiempo de la elección del Presidente y vicepresidente de la Nación\n",
    "\n",
    "Artículo 94.- El Presidente y el vicepresidente de la Nación serán elegidos directamente por el Pueblo, en doble vuelta, según lo establece esta Constitución. A este fin el territorio nacional conformará un distrito único.\n",
    "\n",
    "Artículo 95.- La elección se efectuará dentro de los dos meses anteriores a la conclusión del mandato del Presidente en ejercicio.\n",
    "\n",
    "Artículo 96.- La segunda vuelta electoral, si correspondiere, se realizará entre las dos fórmulas de candidatos más votadas, dentro de los treinta días de celebrada la anterior.\n",
    "\n",
    "Artículo 97.- Cuando la fórmula que resultare más votada en la primera vuelta, hubiere obtenido más del cuarenta y cinco por ciento de los votos afirmativos válidamente emitidos, sus integrantes serán proclamados como Presidente y vicepresidente de la Nación.\n",
    "\n",
    "Artículo 98.- Cuando la fórmula que resultare más votada en la primera vuelta hubiere obtenido el cuarenta por ciento por lo menos de los votos afirmativos válidamente emitidos y, además, existiere una diferencia mayor de diez puntos porcentuales respecto del total de los votos afirmativos válidamente emitidos sobre la fórmula que le sigue en número de votos, sus integrantes serán proclamados como Presidente y vicepresidente de la Nación.\n",
    "\n",
    "CAPÍTULO TERCERO\n",
    "\n",
    "Atribuciones del Poder Ejecutivo\n",
    "\n",
    "Artículo 99.- El Presidente de la Nación tiene las siguientes atribuciones:\n",
    "\n",
    "1. Es el jefe supremo de la Nación, jefe del gobierno y responsable político de la administración general del país.\n",
    "\n",
    "2. Expide las instrucciones y reglamentos que sean necesarios para la ejecución de las leyes de la Nación, cuidando de no alterar su espíritu con excepciones reglamentarias.\n",
    "\n",
    "3. Participa de la formación de las leyes con arreglo a la Constitución, las promulga y hace publicar.\n",
    "\n",
    "El Poder Ejecutivo no podrá en ningún caso bajo pena de nulidad absoluta e insanable, emitir disposiciones de carácter legislativo.\n",
    "\n",
    "Solamente cuando circunstancias excepcionales hicieran imposible seguir los trámites ordinarios previstos por esta Constitución para la sanción de las leyes, y no se trate de normas que regulen materia penal, tributaria, electoral o de régimen de los partidos políticos, podrá dictar decretos por razones de necesidad y urgencia, los que serán decididos en acuerdo general de ministros que deberán refrendarlos, conjuntamente con el jefe de gabinete de ministros.\n",
    "\n",
    "El jefe de gabinete de ministros personalmente y dentro de los diez días someterá la medida a consideración de la Comisión Bicameral Permanente, cuya composición deberá respetar la proporción de las representaciones políticas de cada Cámara. Esta comisión elevará su despacho en un plazo de diez días al plenario de cada Cámara para su expreso tratamiento, el que de inmediato considerarán las Cámaras. Una ley especial sancionada con la mayoría absoluta de la totalidad de los miembros de cada Cámara regulará el trámite y los alcances de la intervención del Congreso.\n",
    "\n",
    "4. Nombra los magistrados de la Corte Suprema con acuerdo del Senado por dos tercios de sus miembros presentes, en sesión pública, convocada al efecto.\n",
    "\n",
    "Nombra los demás jueces de los tribunales federales inferiores en base a una propuesta vinculante en terna del Consejo de la Magistratura, con acuerdo del Senado, en sesión pública, en la que se tendrá en cuenta la idoneidad de los candidatos.\n",
    "\n",
    "Un nuevo nombramiento, precedido de igual acuerdo, será necesario para mantener en el cargo a cualquiera de esos magistrados, una vez que cumplan la edad de setenta y cinco años. Todos los nombramientos de magistrados cuya edad sea la indicada o mayor se harán por cinco años, y podrán ser repetidos indefinidamente, por el mismo trámite.\n",
    "\n",
    "5. Puede indultar o conmutar las penas por delitos sujetos a la jurisdicción federal, previo informe del tribunal correspondiente, excepto en los casos de acusación por la Cámara de Diputados.\n",
    "\n",
    "6. Concede jubilaciones, retiros, licencias y pensiones conforme a las leyes de la Nación.\n",
    "\n",
    "7. Nombra y remueve a los embajadores, ministros plenipotenciarios y encargados de negocios con acuerdo del Senado; por sí solo nombra y remueve al jefe de gabinete de ministros y a los demás ministros del despacho, los oficiales de su secretaría, los agentes consulares y los empleados cuyo nombramiento no está reglado de otra forma por esta Constitución.\n",
    "\n",
    "8. Hace anualmente la apertura de las sesiones del Congreso, reunidas al efecto ambas Cámaras, dando cuenta en esta ocasión del estado de la Nación, de las reformas prometidas por la Constitución, y recomendando a su consideración las medidas que juzgue necesarias y convenientes.\n",
    "\n",
    "9. Prorroga las sesiones ordinarias del Congreso, o lo convoca a sesiones extraordinarias, cuando un grave interés de orden o de progreso lo requiera.\n",
    "\n",
    "10. Supervisa el ejercicio de la facultad del jefe de gabinete de ministros respecto de la recaudación de las rentas da la Nación y de su inversión, con arreglo a la ley o presupuesto de gastos nacionales.\n",
    "\n",
    "11. Concluye y firma tratados, concordatos y otras negociaciones requeridas para el mantenimiento de buenas relaciones con las organizaciones internacionales y las naciones extranjeras, recibe sus ministros y admite sus cónsules.\n",
    "\n",
    "12. Es comandante en jefe de todas las Fuerzas Armadas de la Nación.\n",
    "\n",
    "13. Provee los empleos militares de la Nación: con acuerdo del Senado, en la concesión de los empleos o grados de oficiales superiores de las Fuerzas Armadas; y por sí solo en el campo de batalla.\n",
    "\n",
    "14. Dispone de las Fuerzas Armadas, y corre con su organización y distribución según las necesidades de la Nación.\n",
    "\n",
    "15. Declara la guerra y ordena represalias con autorización y aprobación del Congreso.\n",
    "\n",
    "16. Declara en estado de sitio uno o varios puntos de la Nación, en caso de ataque exterior y por un término limitado, con acuerdo del Senado. En caso de conmoción interior sólo tiene esta facultad cuando el Congreso está en receso, porque es atribución que corresponde a este cuerpo. El Presidente la ejerce con las limitaciones prescriptas en el Artículo 23.\n",
    "\n",
    "17. Puede pedir al jefe de gabinete de ministros y a los jefes de todos los ramos y departamentos de la administración, y por su conducto a los demás empleados, los informes que crea convenientes, y ellos están obligados a darlos.\n",
    "\n",
    "18. Puede ausentarse del territorio de la Nación, con permiso del Congreso. En el receso de éste, sólo podrá hacerlo sin licencia por razones justificadas de servicio público.\n",
    "\n",
    "19. Puede llenar las vacantes de los empleos, que requieran el acuerdo del Senado, y que ocurran durante su receso, por medio de nombramientos en comisión que expirarán al fin de la próxima Legislatura.\n",
    "\n",
    "20. Decreta la intervención federal a una provincia o a la ciudad de Buenos Aires en caso de receso del Congreso, y debe convocarlo simultáneamente para su tratamiento.\n",
    "\n",
    "CAPÍTULO CUARTO\n",
    "\n",
    "Del jefe de gabinete y demás ministros del Poder Ejecutivo\n",
    "\n",
    "Artículo 100.- El jefe de gabinete de ministros y los demás ministros secretarios cuyo número y competencia será establecida por una ley especial, tendrán a su cargo el despacho de los negocios de la Nación, y refrendarán y legalizarán los actos del presidente por medio de su firma, sin cuyo requisito carecen de eficacia.\n",
    "\n",
    "Al jefe de gabinete de ministros, con responsabilidad política ante el Congreso de la Nación, le corresponde:\n",
    "\n",
    "1. Ejercer la administración general del país.\n",
    "\n",
    "2. Expedir los actos y reglamentos que sean necesarios para ejercer las facultades que le atribuye este artículo y aquellas que le delegue el presidente de la Nación, con el refrendo del ministro secretario del ramo al cual el acto o reglamento se refiera.\n",
    "\n",
    "3. Efectuar los nombramientos de los empleados de la administración, excepto los que correspondan al presidente.\n",
    "\n",
    "4. Ejercer las funciones y atribuciones que le delegue el presidente de la Nación y, en acuerdo de gabinete resolver sobre las materias que le indique el Poder Ejecutivo, o por su propia decisión, en aquellas que por su importancia estime necesario, en el ámbito de su competencia.\n",
    "\n",
    "5. Coordinar, preparar y convocar las reuniones de gabinete de ministros, presidiéndolas en caso de ausencia del presidente.\n",
    "\n",
    "6. Enviar al Congreso los proyectos de ley de ministerios y de presupuesto nacional, previo tratamiento en acuerdo de gabinete y aprobación del Poder Ejecutivo.\n",
    "\n",
    "7. Hacer recaudar las rentas de la Nación y ejecutar la ley de presupuesto nacional.\n",
    "\n",
    "8. Refrendar los decretos reglamentarios de las leyes, los decretos que dispongan la prórroga de las sesiones ordinarias del Congreso o la convocatoria de sesiones extraordinarias y los mensajes del presidente que promuevan la iniciativa legislativa.\n",
    "\n",
    "9. Concurrir a las sesiones del Congreso y participar en sus debates, pero no votar.\n",
    "\n",
    "10. Una vez que se inicien las sesiones ordinarias del Congreso, presentar junto a los restantes ministros una memoria detallada del estado de la Nación en lo relativo a los negocios de los respectivos departamentos.\n",
    "\n",
    "11. Producir los informes y explicaciones verbales o escritos que cualquiera de las Cámaras solicite al Poder Ejecutivo.\n",
    "\n",
    "12. Refrendar los decretos que ejercen facultades delegadas por el Congreso, los que estarán sujetos al control de la Comisión Bicameral Permanente.\n",
    "\n",
    "13. Refrendar conjuntamente con los demás ministros los decretos de necesidad y urgencia y los decretos que promulgan parcialmente leyes. Someterá personalmente y dentro de los diez días de su sanción estos decretos a consideración de la Comisión Bicameral Permanente.\n",
    "\n",
    "El jefe de gabinete de ministros no podrá desempeñar simultáneamente otro ministerio.\n",
    "\n",
    "Artículo 101.- El jefe de gabinete de ministros debe concurrir al Congreso al menos una vez por mes, alternativamente a cada una de sus Cámaras, para informar de la marcha del gobierno, sin perjuicio de lo dispuesto en el Artículo 71. Puede ser interpelado a los efectos del tratamiento de una moción de censura, por el voto de la mayoría absoluta de la totalidad de los miembros de cualquiera de las Cámaras, y ser removido por el voto de la mayoría absoluta de los miembros de cada una de las Cámaras.\n",
    "\n",
    "Artículo 102.- Cada ministro es responsable de los actos que legaliza; y solidariamente de los que acuerda con sus colegas.\n",
    "\n",
    "Artículo 103.- Los ministros no pueden por sí solos, en ningún caso, tomar resoluciones, a excepción de lo concerniente al régimen económico y administrativo de sus respectivos departamentos.\n",
    "\n",
    "Artículo 104.- Luego que el Congreso abra sus sesiones, deberán los ministros del despacho presentarle una memoria detallada del estado de la Nación en lo relativo a los negocios de sus respectivos departamentos.\n",
    "\n",
    "Artículo 105.- No pueden ser senadores ni diputados, sin hacer dimisión de sus empleos de ministros.\n",
    "\n",
    "Artículo 106.- Pueden los ministros concurrir a las sesiones del Congreso y tomar parte en sus debates, pero no votar.\n",
    "\n",
    "Artículo 107.- Gozarán por sus servicios de un sueldo establecido por la ley, que no podrá ser aumentado ni disminuido en favor o perjuicio de los que se hallen en ejercicio.\n",
    "\n",
    "SECCIÓN TERCERA\n",
    "\n",
    "DEL PODER JUDICIAL\n",
    "\n",
    "CAPÍTULO PRIMERO\n",
    "\n",
    "De su naturaleza y duración\n",
    "\n",
    "Artículo 108.- El Poder Judicial de la Nación será ejercido por una Corte Suprema de Justicia, y por los demás tribunales inferiores que el Congreso estableciere en el territorio de la Nación.\n",
    "\n",
    "Artículo 109.- En ningún caso el presidente de la Nación puede ejercer funciones judiciales, arrogarse el conocimiento de causas pendientes o restablecer las fenecidas.\n",
    "\n",
    "Artículo 110.- Los jueces de la Corte Suprema y de los tribunales inferiores de la Nación conservarán sus empleos mientras dure su buena conducta, y recibirán por sus servicios una compensación que determinará la ley, y que no podrá ser disminuida en manera alguna, mientras permaneciesen en sus funciones.\n",
    "\n",
    "Artículo 111.- Ninguno podrá ser miembro de la Corte Suprema de Justicia, sin ser abogado de la Nación con ocho años de ejercicio, y tener las calidades requeridas para ser senador.\n",
    "\n",
    "Artículo 112.- En la primera instalación de la Corte Suprema, los individuos nombrados prestarán juramento en manos del Presidente de la Nación, de desempeñar sus obligaciones, administrando justicia bien y legalmente, y en conformidad a lo que prescribe la Constitución. En lo sucesivo lo prestarán ante el presidente de la misma Corte.\n",
    "\n",
    "Artículo 113.- La Corte Suprema dictará su reglamento interior y nombrará a sus empleados.\n",
    "\n",
    "Artículo 114.- El Consejo de la Magistratura, regulado por una ley especial sancionada por la mayoría absoluta de la totalidad de los miembros de cada Cámara, tendrá a su cargo la selección de los magistrados y la administración del Poder Judicial.\n",
    "\n",
    "El Consejo será integrado periódicamente de modo que se procure el equilibrio entre la representación de los órganos políticos resultantes de la elección popular, de los jueces de todas las instancias y de los abogados de la matrícula federal. Será integrado, asimismo, por otras personas del ámbito académico y científico, en el número y la forma que indique la ley.\n",
    "\n",
    "Serán sus atribuciones:\n",
    "\n",
    "1. Seleccionar mediante concursos públicos los postulantes a las magistraturas inferiores.\n",
    "\n",
    "2. Emitir propuestas en ternas vinculantes, para el nombramiento de los magistrados de los tribunales inferiores.\n",
    "\n",
    "3. Administrar los recursos y ejecutar el presupuesto que la ley asigne a la administración de justicia.\n",
    "\n",
    "4. Ejercer facultades disciplinarias sobre magistrados.\n",
    "\n",
    "5. Decidir la apertura del procedimiento de remoción de magistrados, en su caso ordenar la suspensión, y formular la acusación correspondiente.\n",
    "\n",
    "6. Dictar los reglamentos relacionados con la organización judicial y todos aquellos que sean necesarios para asegurar la independencia de los jueces y la eficaz prestación de los servicios de justicia.\n",
    "\n",
    "Artículo 115.- Los jueces de los tribunales inferiores de la Nación serán removidos por las causales expresadas en el Artículo 53, por un jurado de enjuiciamiento integrado por legisladores, magistrados y abogados de la matrícula federal.\n",
    "\n",
    "Su fallo, que será irrecurrible, no tendrá más efecto que destituir al acusado. Pero la parte condenada quedará no obstante sujeta a acusación, juicio y castigo conforme a las leyes ante los tribunales ordinarios.\n",
    "\n",
    "Corresponderá archivar las actuaciones y, en su caso, reponer al juez suspendido, si transcurrieren ciento ochenta días contados desde la decisión de abrir el procedimiento de remoción, sin que haya sido dictado el fallo.\n",
    "\n",
    "En la ley especial a que se refiere el Artículo 114, se determinará la integración y procedimiento de este jurado.\n",
    "\n",
    "CAPÍTULO SEGUNDO\n",
    "\n",
    "Atribuciones del Poder Judicial\n",
    "\n",
    "Artículo 116.- Corresponde a la Corte Suprema y a los tribunales inferiores de la Nación, el conocimiento y decisión de todas las causas que versen sobre puntos regidos por la Constitución, y por las leyes de la Nación, con la reserva hecha en el inc. 12 del Artículo 75: y por los tratados con las naciones extranjeras: de las causas concernientes a embajadores, ministros públicos y cónsules extranjeros: de las causas de almirantazgo y jurisdicción marítima: de los asuntos en que la Nación sea parte: de las causas que se susciten entre dos o más provincias; entre una provincia y los vecinos de otra; entre los vecinos de diferentes provincias; y entre una provincia o sus vecinos, contra un Estado o ciudadano extranjero.\n",
    "\n",
    "Artículo 117.- En estos casos la Corte Suprema ejercerá su jurisdicción por apelación según las reglas y excepciones que prescriba el Congreso; pero en todos los asuntos concernientes a embajadores, ministros y cónsules extranjeros, y en los que alguna provincia fuese parte, la ejercerá originaria y exclusivamente.\n",
    "\n",
    "Artículo 118.- Todos los juicios criminales ordinarios, que no se deriven del derecho de acusación concedido a la Cámara de Diputados se terminarán por jurados, luego que se establezca en la República esta institución. La actuación de estos juicios se hará en la misma provincia donde se hubiere cometido el delito; pero cuando éste se cometa fuera de los límites de la Nación, contra el derecho de gentes, el Congreso determinará por una ley especial el lugar en que haya de seguirse el juicio.\n",
    "\n",
    "Artículo 119.- La traición contra la Nación consistirá únicamente en tomar las armas contra ella, o en unirse a sus enemigos prestándoles ayuda y socorro. El Congreso fijará por una ley especial la pena de este delito; pero ella no pasará de la persona del delincuente, ni la infamia del reo se transmitirá a sus parientes de cualquier grado.\n",
    "\n",
    "SECCIÓN CUARTA\n",
    "\n",
    "Del ministerio público\n",
    "\n",
    "Artículo 120.- El Ministerio Público es un órgano independiente con autonomía funcional y autarquía financiera que tiene por función promover la actuación de la justicia en defensa de la legalidad de los intereses generales de la sociedad en coordinación con las demás autoridades de la República.\n",
    "\n",
    "Está integrado por un procurador general de la Nación y un defensor general de la Nación y los demás miembros que la ley establezca.\n",
    "\n",
    "Sus miembros gozan de inmunidades funcionales e intangibilidad de remuneraciones.\n",
    "\n",
    "TITULO SEGUNDO\n",
    "\n",
    "GOBIERNOS DE PROVINCIA\n",
    "\n",
    "Artículo 121.- Las provincias conservan todo el poder no delegado por esta Constitución al Gobierno federal, y el que expresamente se hayan reservado por pactos especiales al tiempo de su incorporación.\n",
    "\n",
    "Artículo 122.- Se dan sus propias instituciones locales y se rigen por ellas. Eligen sus gobernadores, sus legisladores y demás funcionarios de provincia, sin intervención del Gobierno federal.\n",
    "\n",
    "Artículo 123.- Cada provincia dicta su propia constitución, conforme a lo dispuesto por el Artículo 5° asegurando la autonomía municipal y reglando su alcance y contenido en el orden institucional, político, administrativo, económico y financiero.\n",
    "\n",
    "Artículo 124.- Las provincias podrán crear regiones para el desarrollo económico y social y establecer órganos con facultades para el cumplimiento de sus fines y podrán también celebrar convenios internacionales en tanto no sean incompatibles con la política exterior de la Nación y no afecten las facultades delegadas al Gobierno federal o el crédito público de la Nación; con conocimiento del Congreso Nacional. La ciudad de Buenos Aires tendrá el régimen que se establezca a tal efecto.\n",
    "\n",
    "Corresponde a las provincias el dominio originario de los recursos naturales existentes en su territorio.\n",
    "\n",
    "Artículo 125.- Las provincias pueden celebrar tratados parciales para fines de administración de justicia, de intereses económicos y trabajos de utilidad común, con conocimiento del Congreso Federal; y promover su industria, la inmigración, la construcción de ferrocarriles y canales navegables, la colonización de tierras de propiedad provincial, la introducción y establecimiento de nuevas industrias, la importación de capitales extranjeros y la exploración de sus ríos, por leyes protectoras de estos fines, y con sus recursos propios.\n",
    "\n",
    "Las provincias y la ciudad de Buenos Aires pueden conservar organismos de seguridad social para los empleados públicos y los profesionales; y promover el progreso económico, el desarrollo humano, la generación de empleo, la educación, la ciencia, el conocimiento y la cultura.\n",
    "\n",
    "Artículo 126.- Las provincias no ejercen el poder delegado a la Nación. No pueden celebrar tratados parciales de carácter político; ni expedir leyes sobre comercio, o navegación interior o exterior; ni establecer aduanas provinciales; ni acuñar moneda; ni establecer bancos con facultad de emitir billetes, sin autorización del Congreso Federal; ni dictar los Códigos Civil, Comercial, Penal y de Minería, después que el Congreso los haya sancionado; ni dictar especialmente leyes sobre ciudadanía y naturalización, bancarrotas, falsificación de moneda o documentos del Estado; ni establecer derechos de tonelaje; ni armar buques de guerra o levantar ejércitos, salvo el caso de invasión exterior o de un peligro tan inminente que no admita dilación dando luego cuenta al Gobierno federal; ni nombrar o recibir agentes extranjeros.\n",
    "\n",
    "Artículo 127.- Ninguna provincia puede declarar, ni hacer la guerra a otra provincia. Sus quejas deben ser sometidas a la Corte Suprema de Justicia y dirimidas por ella. Sus hostilidades de hecho son actos de guerra civil, calificados de sedición o asonada, que el Gobierno federal debe sofocar y reprimir conforme a la ley.\n",
    "\n",
    "Artículo 128.- Los gobernadores de provincia son agentes naturales del Gobierno federal para hacer cumplir la Constitución y las leyes de la Nación.\n",
    "\n",
    "Artículo 129.- La ciudad de Buenos Aires tendrá un régimen de Gobierno autónomo con facultades propias de legislación y jurisdicción, y su jefe de gobierno será elegido directamente por el pueblo de la ciudad.\n",
    "\n",
    "Una ley garantizará los intereses del Estado nacional mientras la ciudad de Buenos Aires sea capital de la Nación.\n",
    "\n",
    "En el marco de lo dispuesto en este artículo, el Congreso de la Nación convocará a los habitantes de la ciudad de Buenos Aires para que, mediante los representantes que elijan a ese efecto, dicten el Estatuto Organizativo de sus instituciones.\n",
    "\n",
    "\"\"\""
   ]
  },
  {
   "cell_type": "code",
   "execution_count": 37,
   "metadata": {},
   "outputs": [],
   "source": [
    "doc_cons = nlp(cons_argentina)\n",
    "\n",
    "lista_tokens_lemmas = []\n",
    "\n",
    "for token in doc_cons:\n",
    "    if token.is_punct or token.is_stop or token.is_space: \n",
    "        continue\n",
    "    lista_tokens_lemmas.append([token.lower_, token.lemma_.lower()])    "
   ]
  },
  {
   "cell_type": "code",
   "execution_count": 38,
   "metadata": {},
   "outputs": [
    {
     "data": {
      "text/html": [
       "<div>\n",
       "<style scoped>\n",
       "    .dataframe tbody tr th:only-of-type {\n",
       "        vertical-align: middle;\n",
       "    }\n",
       "\n",
       "    .dataframe tbody tr th {\n",
       "        vertical-align: top;\n",
       "    }\n",
       "\n",
       "    .dataframe thead th {\n",
       "        text-align: right;\n",
       "    }\n",
       "</style>\n",
       "<table border=\"1\" class=\"dataframe\">\n",
       "  <thead>\n",
       "    <tr style=\"text-align: right;\">\n",
       "      <th></th>\n",
       "      <th>Token</th>\n",
       "      <th>Lemma</th>\n",
       "    </tr>\n",
       "  </thead>\n",
       "  <tbody>\n",
       "    <tr>\n",
       "      <th>0</th>\n",
       "      <td>constitucion</td>\n",
       "      <td>constitucion</td>\n",
       "    </tr>\n",
       "    <tr>\n",
       "      <th>1</th>\n",
       "      <td>nacion</td>\n",
       "      <td>nacion</td>\n",
       "    </tr>\n",
       "    <tr>\n",
       "      <th>2</th>\n",
       "      <td>argentina</td>\n",
       "      <td>argentina</td>\n",
       "    </tr>\n",
       "    <tr>\n",
       "      <th>3</th>\n",
       "      <td>preámbulo</td>\n",
       "      <td>preámbulo</td>\n",
       "    </tr>\n",
       "    <tr>\n",
       "      <th>4</th>\n",
       "      <td>representantes</td>\n",
       "      <td>representante</td>\n",
       "    </tr>\n",
       "    <tr>\n",
       "      <th>5</th>\n",
       "      <td>pueblo</td>\n",
       "      <td>pueblo</td>\n",
       "    </tr>\n",
       "    <tr>\n",
       "      <th>6</th>\n",
       "      <td>nación</td>\n",
       "      <td>nación</td>\n",
       "    </tr>\n",
       "    <tr>\n",
       "      <th>7</th>\n",
       "      <td>argentina</td>\n",
       "      <td>argentina</td>\n",
       "    </tr>\n",
       "    <tr>\n",
       "      <th>8</th>\n",
       "      <td>reunidos</td>\n",
       "      <td>reunido</td>\n",
       "    </tr>\n",
       "    <tr>\n",
       "      <th>9</th>\n",
       "      <td>congreso</td>\n",
       "      <td>congreso</td>\n",
       "    </tr>\n",
       "    <tr>\n",
       "      <th>10</th>\n",
       "      <td>general</td>\n",
       "      <td>general</td>\n",
       "    </tr>\n",
       "    <tr>\n",
       "      <th>11</th>\n",
       "      <td>constituyente</td>\n",
       "      <td>constituyente</td>\n",
       "    </tr>\n",
       "    <tr>\n",
       "      <th>12</th>\n",
       "      <td>voluntad</td>\n",
       "      <td>voluntad</td>\n",
       "    </tr>\n",
       "    <tr>\n",
       "      <th>13</th>\n",
       "      <td>elección</td>\n",
       "      <td>elección</td>\n",
       "    </tr>\n",
       "    <tr>\n",
       "      <th>14</th>\n",
       "      <td>provincias</td>\n",
       "      <td>provincia</td>\n",
       "    </tr>\n",
       "  </tbody>\n",
       "</table>\n",
       "</div>"
      ],
      "text/plain": [
       "             Token          Lemma\n",
       "0     constitucion   constitucion\n",
       "1           nacion         nacion\n",
       "2        argentina      argentina\n",
       "3        preámbulo      preámbulo\n",
       "4   representantes  representante\n",
       "5           pueblo         pueblo\n",
       "6           nación         nación\n",
       "7        argentina      argentina\n",
       "8         reunidos        reunido\n",
       "9         congreso       congreso\n",
       "10         general        general\n",
       "11   constituyente  constituyente\n",
       "12        voluntad       voluntad\n",
       "13        elección       elección\n",
       "14      provincias      provincia"
      ]
     },
     "execution_count": 38,
     "metadata": {},
     "output_type": "execute_result"
    }
   ],
   "source": [
    "tokens_lemas_df = pd.DataFrame(lista_tokens_lemmas, columns=['Token','Lemma'])\n",
    "tokens_lemas_df.head(15)"
   ]
  },
  {
   "cell_type": "code",
   "execution_count": 39,
   "metadata": {},
   "outputs": [
    {
     "data": {
      "text/plain": [
       "Token\n",
       "artículo        143\n",
       "nación          108\n",
       "congreso         66\n",
       "ley              56\n",
       "cámara           46\n",
       "presidente       39\n",
       "leyes            38\n",
       "derechos         35\n",
       "constitución     35\n",
       "provincia        35\n",
       "miembros         34\n",
       "provincias       33\n",
       "caso             33\n",
       "gobierno         28\n",
       "nacional         28\n",
       "Name: Token, dtype: int64"
      ]
     },
     "execution_count": 39,
     "metadata": {},
     "output_type": "execute_result"
    }
   ],
   "source": [
    "agrupado = tokens_lemas_df.groupby('Token')['Token'].count()\n",
    "agrupado.sort_values(ascending=False, inplace=True)\n",
    "agrupado.head(15)"
   ]
  },
  {
   "cell_type": "code",
   "execution_count": 40,
   "metadata": {},
   "outputs": [
    {
     "data": {
      "text/plain": [
       "Lemma\n",
       "artículo        145\n",
       "nación          112\n",
       "ley              94\n",
       "provincia        67\n",
       "congreso         66\n",
       "cámara           46\n",
       "presidente       39\n",
       "miembro          38\n",
       "derecho          38\n",
       "público          37\n",
       "caso             37\n",
       "constitución     36\n",
       "nacional         35\n",
       "federal          30\n",
       "gobierno         30\n",
       "Name: Lemma, dtype: int64"
      ]
     },
     "execution_count": 40,
     "metadata": {},
     "output_type": "execute_result"
    }
   ],
   "source": [
    "agrupado = tokens_lemas_df.groupby('Lemma')['Lemma'].count()\n",
    "agrupado.sort_values(ascending=False, inplace=True)\n",
    "agrupado.head(15)"
   ]
  },
  {
   "cell_type": "markdown",
   "metadata": {},
   "source": [
    "#### 3. Reconocimiento de Entidades (NER)"
   ]
  },
  {
   "cell_type": "markdown",
   "metadata": {},
   "source": [
    "El Reconocimiento de Entidades Nombradas (NER) es una técnica de NLP que identifica y clasifica entidades clave en un texto, como nombres de personas, organizaciones, ubicaciones, fechas y más. NER facilita la extracción de información estructurada a partir de datos no estructurados, permitiendo aplicaciones como motores de búsqueda más inteligentes, sistemas de recomendación y análisis de contenidos. Al reconocer entidades específicas, NER ayuda a comprender mejor el contexto y la relevancia de la información presente en el texto."
   ]
  },
  {
   "cell_type": "code",
   "execution_count": 41,
   "metadata": {},
   "outputs": [],
   "source": [
    "import spacy"
   ]
  },
  {
   "cell_type": "markdown",
   "metadata": {},
   "source": [
    "En SpaCy, los modelos de lenguaje para diferentes idiomas vienen en diferentes tamaños y capacidades, lo que permite a los usuarios elegir el modelo que mejor se adapte a sus necesidades específicas en términos de precisión, velocidad y recursos computacionales. En el caso del idioma español, es_core_news_sm y es_core_news_lg son dos de los modelos disponibles, diferenciándose principalmente en su tamaño, calidad de las representaciones vectoriales (embeddings) y rendimiento en tareas de Procesamiento de Lenguaje Natural (NLP).  \n",
    "sm (Small)  \n",
    "lg (large)"
   ]
  },
  {
   "cell_type": "markdown",
   "metadata": {},
   "source": [
    "Tamaño del Modelo\n",
    "* es_core_news_sm (Small)\n",
    "  * Tamaño del Archivo: Aproximadamente 50 MB.\n",
    "  * Uso de Recursos: Requiere menos memoria y es más rápido en términos de carga y procesamiento.\n",
    "  * Adecuado para: Aplicaciones donde los recursos computacionales son limitados o donde se necesita un procesamiento rápido con una precisión aceptable.\n",
    "es_core_news_lg (Large)\n",
    "\n",
    "* Tamaño del Archivo: Aproximadamente 1 GB.\n",
    "  * Uso de Recursos: Consume más memoria y puede ser más lento en comparación con el modelo pequeño debido a su tamaño y complejidad.\n",
    "  * Adecuado para: Aplicaciones que pueden beneficiarse de representaciones vectoriales más ricas y donde la precisión es una prioridad, incluso a costa de un mayor uso de recursos."
   ]
  },
  {
   "cell_type": "code",
   "execution_count": 42,
   "metadata": {},
   "outputs": [],
   "source": [
    "# Descargar modelo\n",
    "#!python -m spacy download es_core_news_lg"
   ]
  },
  {
   "cell_type": "code",
   "execution_count": 43,
   "metadata": {},
   "outputs": [],
   "source": [
    "nlp = spacy.load('es_core_news_lg')"
   ]
  },
  {
   "cell_type": "code",
   "execution_count": 44,
   "metadata": {},
   "outputs": [],
   "source": [
    "texto = \"Steve Jobs fue uno de los cofundadores de la empresa Apple\"\n",
    "documento = nlp(texto)"
   ]
  },
  {
   "cell_type": "code",
   "execution_count": 45,
   "metadata": {},
   "outputs": [
    {
     "name": "stdout",
     "output_type": "stream",
     "text": [
      "11\n"
     ]
    }
   ],
   "source": [
    "print(len(documento))"
   ]
  },
  {
   "cell_type": "code",
   "execution_count": 46,
   "metadata": {},
   "outputs": [
    {
     "name": "stdout",
     "output_type": "stream",
     "text": [
      "Steve Jobs PER\n",
      "Apple ORG\n"
     ]
    }
   ],
   "source": [
    "for entidad in documento.ents:\n",
    "    print(entidad.text, entidad.label_)"
   ]
  },
  {
   "cell_type": "code",
   "execution_count": 47,
   "metadata": {},
   "outputs": [
    {
     "name": "stdout",
     "output_type": "stream",
     "text": [
      "Named person or family.\n",
      "Companies, agencies, institutions, etc.\n"
     ]
    }
   ],
   "source": [
    "print(spacy.explain('PER'))\n",
    "print(spacy.explain('ORG'))"
   ]
  },
  {
   "cell_type": "code",
   "execution_count": 48,
   "metadata": {},
   "outputs": [
    {
     "name": "stdout",
     "output_type": "stream",
     "text": [
      "<class 'tuple'>\n",
      "<class 'spacy.tokens.span.Span'>\n"
     ]
    }
   ],
   "source": [
    "print(type(documento.ents))\n",
    "print(type(documento.ents[0]))"
   ]
  },
  {
   "cell_type": "code",
   "execution_count": 49,
   "metadata": {},
   "outputs": [
    {
     "name": "stdout",
     "output_type": "stream",
     "text": [
      "Cordillera de los Andes LOC\n"
     ]
    }
   ],
   "source": [
    "texto = \"La Cordillera de los Andes es una cadena montañosa\"\n",
    "documento = nlp(texto)\n",
    "for entidad in documento.ents:\n",
    "    print(entidad.text, entidad.label_)"
   ]
  },
  {
   "cell_type": "code",
   "execution_count": 50,
   "metadata": {},
   "outputs": [
    {
     "name": "stdout",
     "output_type": "stream",
     "text": [
      "Non-GPE locations, mountain ranges, bodies of water\n"
     ]
    }
   ],
   "source": [
    "print(spacy.explain('LOC'))"
   ]
  },
  {
   "cell_type": "code",
   "execution_count": 51,
   "metadata": {},
   "outputs": [
    {
     "name": "stdout",
     "output_type": "stream",
     "text": [
      "cataratas del Iguazú LOC\n"
     ]
    }
   ],
   "source": [
    "texto = \"Las cataratas del Iguazú son una maravilla natural\"\n",
    "documento = nlp(texto)\n",
    "for entidad in documento.ents:\n",
    "    print(entidad.text, entidad.label_)"
   ]
  },
  {
   "cell_type": "code",
   "execution_count": 52,
   "metadata": {},
   "outputs": [],
   "source": [
    "texto = \"\"\"\n",
    "Marcas individuales\n",
    "General\n",
    "Más torneos ganados: Bandera de Brasil Pelé con 3 (1958, 1962 y 1970).\n",
    "Más torneos jugados: seis jugadores han disputado el torneo en 5 ocasiones.n 1​\n",
    "Bandera de México Antonio Carbajal (1950, 1954, 1958, 1962, 1966)\n",
    "Bandera de Alemania Lothar Matthäus (1982, 1986, 1990, 1994, 1998)\n",
    "Bandera de México Rafael Márquez (2002, 2006, 2010, 2014, 2018)\n",
    "Bandera de Argentina Lionel Messi (2006, 2010, 2014, 2018, 2022)\n",
    "Bandera de Portugal Cristiano Ronaldo (2006, 2010, 2014, 2018, 2022)\n",
    "Bandera de México Andrés Guardado (2006, 2010, 2014, 2018, 2022)\n",
    "Más partidos jugados: Bandera de Argentina Lionel Messi (entre 2006 y 2022) con 26.\n",
    "Más minutos jugados: Bandera de Argentina Lionel Messi con 2315 minutos (entre 2006 y 2022).\n",
    "Más partidos ganados: Bandera de Alemania Miroslav Klose con 17 (entre 2002 y 2014).\n",
    "Más finales alcanzadas: cinco jugadores han alcanzado la final del torneo en 3 ocasiones.\n",
    "Bandera de Brasil Pelé (1958, 1962, 1970)\n",
    "Bandera de Brasil Cafú (1994, 1998, 2002)\n",
    "Bandera de Brasil Ronaldo (1994, 1998, 2002)\n",
    "Bandera de Alemania Lothar Matthäus (1982, 1986, 1990)\n",
    "Bandera de Alemania Pierre Littbarski (1982, 1986, 1990).\n",
    "Más finales consecutivas alcanzadas: cuatro jugadores han alcanzado la final del torneo en 3 ocasiones consecutivas.\n",
    "Bandera de Brasil Cafú (1994, 1998, 2002)\n",
    "Bandera de Brasil Ronaldo (1994, 1998, 2002)\n",
    "Bandera de Alemania Lothar Matthäus (1982, 1986, 1990)\n",
    "Bandera de Alemania Pierre Littbarski (1982, 1986, 1990).\n",
    "Más finales jugadas: Bandera de Brasil Cafú con 3 (1994, 1998, 2002).\n",
    "Más partidos jugados como capitán:\n",
    "Bandera de Argentina Lionel Messi con 19 (2010, 2014, 2018 y 2022).\n",
    "Más partidos como sustituto: Bandera de Brasil Denilson con 11 (1998 y 2002).\n",
    "Más joven en un partido: Bandera de Irlanda del Norte Norman Whiteside con 17 años y 42 días (contra Yugoslavia en 1982).\n",
    "Más joven en una final: Bandera de Brasil Pelé con 17 años y 249 días (contra Suecia en 1958).\n",
    "Más joven en un partido clasificatorio: Bandera de Togo Souleymane Mamam con 13 años y 310 días (contra Zambia en las clasificatorias para 2002, el 6 de mayo de 2001).7​\n",
    "Más joven en un partido como capitán: Bandera de Estados Unidos Tony Meola con 21 años y 316 días (contra Checoslovaquia en 1990).8​\n",
    "Más veterano en un partido: Bandera de Egipto Essam El-Hadary con 45 años y 161 días (contra Arabia Saudita en 2018).9​10​\n",
    "Más veterano en una final: Bandera de Italia Dino Zoff con 40 años y 133 días (contra Alemania Federal en 1982).\n",
    "Más veterano en un partido clasificatorio: Bandera de Islas Vírgenes de los Estados Unidos MacDonald Taylor con 46 años y 180 días (contra Bandera de San Cristobal y Nieves San Cristóbal y Nieves en clasificatorias para 2006, el 18 de febrero de 2004).11​\n",
    "Más veterano en un partido como capitán: Bandera de Egipto Essam El-Hadary con 45 años y 161 días (contra Arabia Saudita en 2018).\n",
    "Mayor diferencia de edad en un equipo: Bandera de Camerún Camerún con 23 años y 358 días, en 1994 (entre Rigobert Song, con 18 años y 10 días, y Roger Milla, con 42 años y 1 día).\n",
    "Mayor diferencia de edad en un equipo campeón: Bandera de Italia Italia con 21 años y 297 días, en 1982 (entre Giuseppe Bergomi, con 18 años y 201 días, y Dino Zoff, con 40 años y 133 días).\n",
    "Mayor período entre dos participaciones como jugador: Bandera de Colombia Faryd Mondragón con 15 años y 363 días (1998 y 2014).\n",
    "Mayor período entre dos participaciones en general: 44 años, Bandera de Brasil Tim (en 1938 como jugador; Perú, en 1982 como entrenador).\n",
    "Menor periodo entre debut deportivo y debut en mundiales: Bandera de Dinamarca Christian Eriksen con 147 días (2010).[cita requerida]\n",
    "Goles\n",
    "Mayor cantidad de goles anotados en el torneo: 172 (2022).\n",
    "Primer gol: Bandera de Francia Lucien Laurent ante México en 1930.\n",
    "Primer gol de penal: Bandera de México Manuel Rosas ante Argentina en 1930.\n",
    "Primer gol de penal en una final: Bandera de los Países Bajos Johan Neeskens ante Alemania Federal en 1974.\n",
    "Primer jugador en fallar un penal en una final: Bandera de Italia Antonio Cabrini ante Alemania Federal en 1982.\n",
    "Más goles anotados: Bandera de Alemania Miroslav Klose con 16 (2002, 2006, 2010 y 2014).\n",
    "Más goles anotados en fase clasificatoria: Bandera de Guatemala Carlos Ruiz con 39 (entre 1998 y 2015).\n",
    "Más goles anotados en un solo torneo: Bandera de Francia Just Fontaine con 13 en 1958.\n",
    "Más goles anotados en un solo partido: Bandera de Rusia Oleg Salenko con 5, contra Camerún en 1994.\n",
    "Más goles anotados en una derrota: Bandera de Polonia Ernest Wilimowski con 4, contra Brasil en 1938.\n",
    "Más goles anotados en un partido clasificatorio: Bandera de Australia Archie Thompson con 13, contra Samoa Americana en las clasificatorias para 2002.\n",
    "Más goles anotados en una final: Bandera de Inglaterra Geoff Hurst y Bandera de Francia Kylian Mbappé con 3 cada uno.\n",
    "Más goles anotados en finales: Bandera de Francia Kylian Mbappé, con 4.\n",
    "Primer gol olímpico: Bandera de Colombia Marcos Coll ante la Unión Soviética en 1962.\n",
    "Primer gol de oro: Bandera de Francia Laurent Blanc ante Paraguay en 1998.\n",
    "Último gol de oro: Bandera de Turquía Ilhan Mansiz ante Senegal en 2002.\n",
    "Gol más rápido: Bandera de Turquía Hakan Şükür a los 11 segundos ante Corea del Sur en 2002.\n",
    "Gol más tardío: Bandera de Italia Alessandro Del Piero ante Alemania en 2006, y Bandera de Argelia Abdelmoumene Djabou ante Alemania en 2014, ambos a los 121 minutos.\n",
    "Gol más rápido en una final: Bandera de los Países Bajos Johan Neeskens ante Alemania Federal en 1974 al minuto 1 y 27 segundos.\n",
    "Gol más tardío en una final: Bandera de Inglaterra Geoff Hurst ante Alemania Federal en 1966 a los 120 minutos.\n",
    "Doblete más rápido: Bandera de Alemania Toni Kroos en 69 segundos ante Brasil en 2014.\n",
    "Primer autogol anotado: Bandera de México Manuel Rosas ante Chile en 1930.\n",
    "Autogol más rápido: Bandera de Bosnia y Herzegovina Sead Kolašinac a los 2 minutos y 9 segundos, ante Argentina en 2014.\n",
    "Primer autogol en una final: Bandera de Croacia Mario Mandžukić ante Bandera de Francia Francia en 2018.\n",
    "Jugador debutante más joven en convertir un gol: Bandera de Brasil Pelé con 17 años y 239 días de edad, contra Gales en 1958.\n",
    "Jugador debutante más veterano en convertir un gol: Bandera de Panamá Felipe Baloy con 37 años y 120 días de edad, contra Inglaterra en 2018.\n",
    "Jugador más joven en convertir un gol: Bandera de Brasil Pelé con 17 años y 239 días de edad, ante Gales en 1958.\n",
    "Jugador más veterano en convertir un gol: Bandera de Camerún Roger Milla con 42 años y 39 días de edad ante Rusia en 1994.\n",
    "Único jugador en convertir un hat-trick en dos mundiales distintos: Bandera de Argentina Gabriel Batistuta ante Grecia en 1994 y Jamaica en 1998.\n",
    "Único jugador en convertir gol en cinco mundiales distintos: Bandera de Portugal Cristiano Ronaldo (2006, 2010, 2014, 2018 y 2022).\n",
    "Único jugador en anotar en todas las fases de un mundial: Bandera de Argentina Lionel Messi en 2022.\n",
    "Único jugador en anotar en todos los partidos de un mundial: Bandera de Brasil Jairzinho en 1970.\n",
    "Asistencias\n",
    "Más asistencias: Bandera de Brasil Pelé con 10 (1958-1970)12​\n",
    "Más asistencias en un solo torneo: Bandera de Brasil Pelé con 6, en 197013​\n",
    "Más asistencias en un solo partido: Bandera de Polonia Robert Gadocha con 4, contra Haití en 1974.14​15​\n",
    "Más asistencias en una final: Bandera de Brasil Pelé con 2, contra Italia en 1970.\n",
    "Más asistencias en finales: Bandera de Brasil Pelé con 316​\n",
    "Entrenadores\n",
    "Más torneos ganados: Bandera de Italia Vittorio Pozzo, 2 (1934 y 1938).\n",
    "Más torneos dirigidos: Bandera de Brasil Carlos Alberto Parreira, 6 (1982, 1990, 1994, 1998, 2006 y 2010).\n",
    "Más partidos dirigidos: Bandera de Alemania Helmut Schön, 25 (1966, 1970, 1974 y 1978).\n",
    "Más partidos ganados: Bandera de Alemania Helmut Schön, 16 (1966, 1970, 1974 y 1978).\n",
    "\"\"\"\n"
   ]
  },
  {
   "cell_type": "code",
   "execution_count": 53,
   "metadata": {},
   "outputs": [],
   "source": [
    "documento = nlp(texto)"
   ]
  },
  {
   "cell_type": "code",
   "execution_count": 54,
   "metadata": {},
   "outputs": [
    {
     "name": "stdout",
     "output_type": "stream",
     "text": [
      "1693\n",
      "204\n"
     ]
    }
   ],
   "source": [
    "print(len(documento))\n",
    "print(len(documento.ents))"
   ]
  },
  {
   "cell_type": "code",
   "execution_count": 55,
   "metadata": {},
   "outputs": [
    {
     "name": "stdout",
     "output_type": "stream",
     "text": [
      "Pelé\n",
      "Antonio Carbajal\n",
      "Lothar Matthäus\n",
      "Rafael Márquez\n",
      "Lionel Messi\n",
      "Cristiano Ronaldo\n",
      "Andrés Guardado\n",
      "Lionel Messi\n",
      "Lionel Messi\n",
      "Miroslav Klose\n",
      "Pelé\n",
      "Cafú\n",
      "Lothar Matthäus\n",
      "Pierre Littbarski\n",
      "Cafú\n",
      "Lothar Matthäus\n",
      "Pierre Littbarski\n",
      "Cafú\n",
      "Lionel Messi\n",
      "Denilson\n",
      "Pelé\n",
      "Tony Meola\n",
      "Essam El-Hadary\n",
      "Dino Zoff\n",
      "MacDonald Taylor\n",
      "Essam El-Hadary\n",
      "Rigobert Song\n",
      "Roger Milla\n",
      "Giuseppe Bergomi\n",
      "Dino Zoff\n",
      "Menor\n",
      "Christian Eriksen\n",
      "Goles\n",
      "Mayor\n",
      "Lucien Laurent\n",
      "Manuel Rosas\n",
      "Johan Neeskens\n",
      "Antonio Cabrini\n",
      "Miroslav Klose\n",
      "Carlos Ruiz\n",
      "Oleg Salenko\n",
      "Ernest Wilimowski\n",
      "Archie Thompson\n",
      "Geoff Hurst\n",
      "Kylian Mbappé\n",
      "Kylian Mbappé\n",
      "Marcos Coll\n",
      "Laurent Blanc\n",
      "Alessandro Del Piero\n",
      "Johan Neeskens\n",
      "Geoff Hurst\n",
      "Toni Kroos\n",
      "Manuel Rosas\n",
      "Mario Mandžukić\n",
      "Pelé\n",
      "Felipe Baloy\n",
      "Pelé\n",
      "Roger Milla\n",
      "Gabriel Batistuta\n",
      "Cristiano Ronaldo\n",
      "Lionel Messi\n",
      "Jairzinho\n",
      "Pelé\n",
      "Pelé\n",
      "Robert Gadocha\n",
      "Pelé\n",
      "Pelé\n",
      "Vittorio Pozzo\n",
      "Carlos Alberto Parreira\n",
      "Helmut Schön\n",
      "Helmut Schön\n"
     ]
    }
   ],
   "source": [
    "for entidad in documento.ents:\n",
    "    if entidad.label_ == \"PER\":\n",
    "        print(entidad)"
   ]
  },
  {
   "cell_type": "code",
   "execution_count": 56,
   "metadata": {},
   "outputs": [],
   "source": [
    "#pip install requests beautifulsoup4"
   ]
  },
  {
   "cell_type": "code",
   "execution_count": 57,
   "metadata": {},
   "outputs": [
    {
     "name": "stdout",
     "output_type": "stream",
     "text": [
      "\n",
      "\n",
      "Cloud computing[1] is the on-demand availability of computer system resources, especially data storage (cloud storage) and computing power, without direct active management by the user.[2] Large clouds often have functions distributed over multiple locations, each of which is a data center. Cloud computing relies on sharing of resources to achieve coherence and typically uses a pay-as-you-go model, which can help in reducing capital expenses but may also lead to unexpected operating expenses for users.[3][4]\n",
      "\n",
      "A European Commission communication issued in 2012 argued that the breadth of scope offered by cloud computing made a general definition \"elusive\",[5] whereas the United States National Institute of Standards and Technology's 2011 definition of cloud computing identified \"five essential characteristics\":\n",
      "\n",
      "Cloud computing has a rich history which extends back to the 1960s, with the initial concepts of time-sharing becoming popularized via remote job entry (RJE). The \"data center\"\n"
     ]
    }
   ],
   "source": [
    "import requests\n",
    "from bs4 import BeautifulSoup\n",
    "\n",
    "# URL de la página de Wikipedia sobre Cloud Computing\n",
    "url = \"https://en.wikipedia.org/wiki/Cloud_computing\"\n",
    "\n",
    "# Realizar una solicitud GET para obtener el contenido de la página\n",
    "response = requests.get(url)\n",
    "\n",
    "# Verificar que la solicitud fue exitosa\n",
    "if response.status_code == 200:\n",
    "    # Parsear el contenido HTML de la página con BeautifulSoup\n",
    "    soup = BeautifulSoup(response.content, 'html.parser')\n",
    "    \n",
    "    # Encontrar todas las etiquetas de párrafo dentro del contenido principal\n",
    "    # En Wikipedia, el contenido principal está dentro de <div id=\"bodyContent\">\n",
    "    body_content = soup.find('div', {'id': 'bodyContent'})\n",
    "    paragraphs = body_content.find_all('p')\n",
    "\n",
    "    # Extraer el texto de cada párrafo y concatenarlo\n",
    "    text = \"\"\n",
    "    for para in paragraphs:\n",
    "        text += para.get_text().strip() + \"\\n\\n\"\n",
    "\n",
    "    # Opcional: Guardar el texto extraído en un archivo\n",
    "    with open(\"Cloud_computing_extracted.txt\", \"w\", encoding='utf-8') as file:\n",
    "        file.write(text)\n",
    "\n",
    "    # Imprimir una parte del texto para verificar\n",
    "    print(text[:1000])  # Imprime los primeros 1000 caracteres\n",
    "else:\n",
    "    print(f\"Error al acceder a la página: Status code {response.status_code}\")"
   ]
  },
  {
   "cell_type": "code",
   "execution_count": 58,
   "metadata": {},
   "outputs": [],
   "source": [
    "# Link: https://en.wikipedia.org/wiki/Cloud_computing\n",
    "#text = open(\"Cloud computing.txt\", encoding='utf-8').read()"
   ]
  },
  {
   "cell_type": "code",
   "execution_count": 59,
   "metadata": {},
   "outputs": [],
   "source": [
    "# Descargar modelo en inglés\n",
    "#!python -m spacy download en_core_web_md"
   ]
  },
  {
   "cell_type": "code",
   "execution_count": 60,
   "metadata": {},
   "outputs": [],
   "source": [
    "nlp = spacy.load('en_core_web_md')\n",
    "document = nlp(text)"
   ]
  },
  {
   "cell_type": "code",
   "execution_count": 61,
   "metadata": {},
   "outputs": [
    {
     "name": "stdout",
     "output_type": "stream",
     "text": [
      "5243\n"
     ]
    }
   ],
   "source": [
    "print(len(document))"
   ]
  },
  {
   "cell_type": "code",
   "execution_count": 62,
   "metadata": {},
   "outputs": [
    {
     "name": "stdout",
     "output_type": "stream",
     "text": [
      "170\n"
     ]
    }
   ],
   "source": [
    "print(len(document.ents))"
   ]
  },
  {
   "cell_type": "code",
   "execution_count": 63,
   "metadata": {},
   "outputs": [
    {
     "name": "stdout",
     "output_type": "stream",
     "text": [
      "A European Commission\n",
      "the United States National Institute of Standards and Technology's\n",
      "RJE\n",
      "Telescript\n",
      "General Magic\n",
      "Compaq Computer Corporation\n",
      "Compaq\n",
      "Amazon Web Services\n",
      "Google Docs\n",
      "Amazon Simple Storage Service\n",
      "Amazon S3\n",
      "the Amazon Elastic Compute Cloud\n",
      "NASA\n",
      "Microsoft\n",
      "Microsoft Azure\n",
      "NASA\n",
      "OpenStack\n",
      "IBM\n",
      "IBM SmartCloud\n",
      "Oracle\n",
      "the Oracle Cloud\n",
      "Amazon\n",
      "AWS Outposts\n",
      "Applications\n",
      "GDPR\n",
      "the Cloud Security Alliance\n",
      "Insecure Interfaces\n",
      "Data Loss & Leakage\n",
      "Hardware Failure\n",
      "Emagined Security\n",
      "Dropbox\n",
      "iCloud 2014 leak.[43\n",
      "BTC\n",
      "Terms of Service\n",
      "Apple\n",
      "SOA\n",
      "EaaS\n",
      "XaaS\n",
      "the National Institute of Standards and Technology\n",
      "NIST\n",
      "Infrastructure as a Service\n",
      "IaaS\n",
      "Software\n",
      "SaaS\n",
      "PaaS\n",
      "IaaS\n",
      "IaaS\n",
      "IaaS\n",
      "IaaS\n",
      "IP\n",
      "NIST\n",
      "IaaS\n",
      "NIST\n",
      "Integration Platform\n",
      "NIST\n",
      "Software\n",
      "SaaS\n",
      "SaaS\n",
      "SaaS\n",
      "SaaS\n",
      "SaaS\n",
      "SaaS\n",
      "SaaS\n",
      "Google Docs\n",
      "SaaS\n",
      "Google Docs\n",
      "Google Drive\n",
      "Office Online\n",
      "Function\n",
      "FaaS\n",
      "FaaS\n",
      "Multi\n",
      "HPC\n",
      "Amazon Web Services\n",
      "Univa\n",
      "Silicon Graphics International\n",
      "Penguin Computing\n",
      "The Penguin On Demand\n",
      "HPC\n",
      "Penguin Computing\n",
      "HPC\n",
      "Amazon\n",
      "EC2 Elastic Compute Cloud\n",
      "International Data Corporation\n",
      "McKinsey & Company\n",
      "The European Commission's\n",
      "2012 Communication\n",
      "Commission\n",
      "QoS\n",
      "RDS\n",
      "Wikimedia Commons\n"
     ]
    }
   ],
   "source": [
    "for named_entity in document.ents:\n",
    "    if named_entity.label_ == \"ORG\":\n",
    "        print(named_entity)"
   ]
  },
  {
   "cell_type": "markdown",
   "metadata": {},
   "source": [
    "#### 4. Patrones (Matching)"
   ]
  },
  {
   "cell_type": "markdown",
   "metadata": {},
   "source": [
    "Los patrones (matching) en NLP se refieren a la identificación de estructuras o secuencias específicas de tokens dentro de un texto mediante reglas predefinidas. Utilizando herramientas como el Matcher o el EntityRuler en Spacy, es posible definir patrones basados en la gramática, el orden de las palabras o características particulares de los tokens. Esta técnica es útil para tareas como la detección de frases específicas, la extracción de información personalizada y la creación de reglas para identificar entidades o relaciones que no son capturadas por modelos de aprendizaje automático."
   ]
  },
  {
   "cell_type": "code",
   "execution_count": 64,
   "metadata": {},
   "outputs": [],
   "source": [
    "import spacy\n",
    "from spacy.matcher import Matcher"
   ]
  },
  {
   "cell_type": "code",
   "execution_count": 65,
   "metadata": {},
   "outputs": [],
   "source": [
    "nlp = spacy.load('es_core_news_lg')"
   ]
  },
  {
   "cell_type": "code",
   "execution_count": 66,
   "metadata": {},
   "outputs": [],
   "source": [
    "texto = \"\"\"La Copa Mundial de Fútbol es un evento deportivo que se celebra cada 4 años.\n",
    "           Se celebró por primera vez en Uruguay en el año 1930.\n",
    "           En la última edición participaron 32 equipos.\n",
    "        \"\"\""
   ]
  },
  {
   "cell_type": "code",
   "execution_count": 67,
   "metadata": {},
   "outputs": [],
   "source": [
    "documento = nlp(texto)"
   ]
  },
  {
   "cell_type": "code",
   "execution_count": 68,
   "metadata": {},
   "outputs": [],
   "source": [
    "matcher = Matcher(nlp.vocab)"
   ]
  },
  {
   "cell_type": "code",
   "execution_count": 69,
   "metadata": {},
   "outputs": [],
   "source": [
    "patron_1 =  [{\"LEMMA\":'celebrar'}]"
   ]
  },
  {
   "cell_type": "code",
   "execution_count": 70,
   "metadata": {},
   "outputs": [],
   "source": [
    "matcher.add('celebrar',[patron_1])"
   ]
  },
  {
   "cell_type": "code",
   "execution_count": 71,
   "metadata": {},
   "outputs": [],
   "source": [
    "resultados = matcher(documento)"
   ]
  },
  {
   "cell_type": "code",
   "execution_count": 72,
   "metadata": {},
   "outputs": [
    {
     "name": "stdout",
     "output_type": "stream",
     "text": [
      "<class 'list'>\n"
     ]
    }
   ],
   "source": [
    "print(type(resultados))"
   ]
  },
  {
   "cell_type": "code",
   "execution_count": 73,
   "metadata": {},
   "outputs": [
    {
     "name": "stdout",
     "output_type": "stream",
     "text": [
      "(4170701316898965175, 11, 12)\n",
      "(4170701316898965175, 18, 19)\n"
     ]
    }
   ],
   "source": [
    "for resultado in resultados:\n",
    "    print(resultado)"
   ]
  },
  {
   "cell_type": "code",
   "execution_count": 74,
   "metadata": {},
   "outputs": [
    {
     "name": "stdout",
     "output_type": "stream",
     "text": [
      "<<< Nuevo match >>>\n",
      "--- Lemma\n",
      "celebrar\n",
      "--- Palabra encontrada\n",
      "celebra\n",
      "<<< Nuevo match >>>\n",
      "--- Lemma\n",
      "celebrar\n",
      "--- Palabra encontrada\n",
      "celebró\n"
     ]
    }
   ],
   "source": [
    "for codigo_hash, comienzo, fin in resultados:\n",
    "    print(\"<<< Nuevo match >>>\")    \n",
    "    print(\"--- Lemma\")\n",
    "    print(nlp.vocab.strings[codigo_hash])    \n",
    "    print(\"--- Palabra encontrada\")\n",
    "    print(documento[comienzo:fin])"
   ]
  },
  {
   "cell_type": "code",
   "execution_count": 75,
   "metadata": {},
   "outputs": [
    {
     "name": "stdout",
     "output_type": "stream",
     "text": [
      "<class 'spacy.tokens.span.Span'>\n",
      "celebra\n",
      "<class 'spacy.tokens.span.Span'>\n",
      "celebró\n"
     ]
    }
   ],
   "source": [
    "matcher = Matcher(nlp.vocab)\n",
    "matcher.add('celebrar',[patron_1])\n",
    "resultados = matcher(documento, as_spans=True)\n",
    "\n",
    "for resultado in resultados:\n",
    "    print(type(resultado))\n",
    "    print(resultado)"
   ]
  },
  {
   "cell_type": "code",
   "execution_count": 76,
   "metadata": {},
   "outputs": [
    {
     "name": "stdout",
     "output_type": "stream",
     "text": [
      "celebra\n",
      "4\n",
      "celebró\n",
      "1930\n",
      "32\n"
     ]
    }
   ],
   "source": [
    "patron_2 =  [{\"IS_DIGIT\":True}]\n",
    "matcher.add('num', [patron_2])\n",
    "resultados = matcher(documento, as_spans=True)\n",
    "for resultado in resultados:\n",
    "    print(resultado)"
   ]
  },
  {
   "cell_type": "code",
   "execution_count": 77,
   "metadata": {},
   "outputs": [
    {
     "name": "stdout",
     "output_type": "stream",
     "text": [
      "4\n",
      "1930\n",
      "32\n"
     ]
    }
   ],
   "source": [
    "matcher.remove('celebrar')\n",
    "resultados = matcher(documento, as_spans=True)\n",
    "for resultado in resultados:\n",
    "    print(resultado)"
   ]
  },
  {
   "cell_type": "markdown",
   "metadata": {},
   "source": [
    "#### Patrones (Matching) 2da Parte"
   ]
  },
  {
   "cell_type": "code",
   "execution_count": 78,
   "metadata": {},
   "outputs": [],
   "source": [
    "import spacy\n",
    "from spacy.matcher import Matcher"
   ]
  },
  {
   "cell_type": "code",
   "execution_count": 79,
   "metadata": {},
   "outputs": [],
   "source": [
    "nlp = spacy.load('es_core_news_lg')"
   ]
  },
  {
   "cell_type": "code",
   "execution_count": 80,
   "metadata": {},
   "outputs": [],
   "source": [
    "# link https://es.wikipedia.org/wiki/S%26P_500\n",
    "texto = \"\"\" El índice Standard & Poor's 500 (Standard & Poor's 500 Index), también conocido como S&P 500, es uno de los índices bursátiles más importantes de Estados Unidos. Al S&P 500 se lo considera el índice más representativo de la situación real del mercado. El índice se basa en la capitalización bursátil de 500 grandes empresas que poseen acciones que cotizan en las bolsas NYSE o NASDAQ, y captura aproximadamente el 80% de toda la capitalización de mercado en Estados Unidos. Los componentes del índice S&P 500 y su ponderación son determinados por S&P Dow Jones Indices. Se diferencia de otros índices de mercados financieros de Estados Unidos, tales como el Dow Jones Industrial Average o el índice Nasdaq Composite, en la diversidad de los rubros que lo conforman y en su metodología de ponderación. Es uno de los índices de valores más seguidos, y muchas personas lo consideran el más representativo del mercado de acciones de Estados Unidos, y el marcador de tendencias de la economía norteamericana. El National Bureau of Economic Research ha clasificado a las acciones comunes como un indicador relevante de los ciclos de negocios. \"\"\""
   ]
  },
  {
   "cell_type": "code",
   "execution_count": 81,
   "metadata": {},
   "outputs": [],
   "source": [
    "documento = nlp(texto)"
   ]
  },
  {
   "cell_type": "code",
   "execution_count": 82,
   "metadata": {},
   "outputs": [
    {
     "name": "stdout",
     "output_type": "stream",
     "text": [
      " \n",
      "El índice Standard & Poor's 500 (Standard & Poor's 500 Index), también conocido como S&P 500, es uno de los índices bursátiles más importantes de Estados Unidos.\n",
      "Al S&P 500 se lo considera el índice más representativo de la situación real del mercado.\n",
      "El índice se basa en la capitalización bursátil de 500 grandes empresas que poseen acciones que cotizan en las bolsas NYSE o NASDAQ, y captura aproximadamente el 80% de toda la capitalización de mercado en Estados Unidos.\n",
      "Los componentes del índice S&P 500 y su ponderación son determinados por S&P Dow Jones Indices.\n",
      "Se diferencia de otros índices de mercados financieros de Estados Unidos, tales como el Dow Jones Industrial Average o el índice Nasdaq Composite, en la diversidad de los rubros que lo conforman y en su metodología de ponderación.\n",
      "Es uno de los índices de valores más seguidos, y muchas personas lo consideran el más representativo del mercado de acciones de Estados Unidos, y el marcador de tendencias de la economía norteamericana.\n",
      "El National Bureau of Economic Research ha clasificado a las acciones comunes como un indicador relevante de los ciclos de negocios.\n"
     ]
    }
   ],
   "source": [
    "for sent in documento.sents:\n",
    "    print(sent)"
   ]
  },
  {
   "cell_type": "code",
   "execution_count": 83,
   "metadata": {},
   "outputs": [
    {
     "name": "stdout",
     "output_type": "stream",
     "text": [
      "índice\n",
      "índices\n",
      "índice\n",
      "índice\n",
      "índice\n",
      "índices\n",
      "índice\n",
      "índices\n"
     ]
    }
   ],
   "source": [
    "patron_0 =  [{'LEMMA':'índice'}]\n",
    "matcher_0 = Matcher(nlp.vocab)\n",
    "matcher_0.add('índice',[patron_0])\n",
    "resultados = matcher_0(documento, as_spans=True)\n",
    "\n",
    "for resultado in resultados:\n",
    "    print(resultado)"
   ]
  },
  {
   "cell_type": "code",
   "execution_count": 84,
   "metadata": {},
   "outputs": [],
   "source": [
    "# https://spacy.io/api/matcher#patterns\n",
    "patron_1 =  [{'LEMMA':'índice'}, {'LENGTH': 6}]"
   ]
  },
  {
   "cell_type": "code",
   "execution_count": 85,
   "metadata": {},
   "outputs": [
    {
     "name": "stdout",
     "output_type": "stream",
     "text": [
      "índice Nasdaq\n"
     ]
    }
   ],
   "source": [
    "matcher_1 = Matcher(nlp.vocab)\n",
    "matcher_1.add('índices',[patron_1])\n",
    "resultados = matcher_1(documento, as_spans=True)\n",
    "\n",
    "for resultado in resultados:\n",
    "    print(resultado)"
   ]
  },
  {
   "cell_type": "code",
   "execution_count": 86,
   "metadata": {},
   "outputs": [],
   "source": [
    "patron_2 =  [{'LEMMA':'índice'},{'LENGTH': {\">=\": 5}}]"
   ]
  },
  {
   "cell_type": "code",
   "execution_count": 87,
   "metadata": {},
   "outputs": [
    {
     "name": "stdout",
     "output_type": "stream",
     "text": [
      "índice Standard\n",
      "índices bursátiles\n",
      "índice Nasdaq\n"
     ]
    }
   ],
   "source": [
    "matcher_2 = Matcher(nlp.vocab)\n",
    "matcher_2.add('índices',[patron_2])\n",
    "resultados = matcher_2(documento, as_spans=True)\n",
    "\n",
    "for resultado in resultados:\n",
    "    print(resultado)"
   ]
  },
  {
   "cell_type": "code",
   "execution_count": 88,
   "metadata": {},
   "outputs": [],
   "source": [
    "patron_3 =  [{'LEMMA':'índice'},{'POS':'ADJ'}]"
   ]
  },
  {
   "cell_type": "code",
   "execution_count": 89,
   "metadata": {},
   "outputs": [
    {
     "name": "stdout",
     "output_type": "stream",
     "text": [
      "índices bursátiles\n"
     ]
    }
   ],
   "source": [
    "matcher_3 = Matcher(nlp.vocab)\n",
    "matcher_3.add('índices',[patron_3])\n",
    "resultados = matcher_3(documento, as_spans=True)\n",
    "\n",
    "for resultado in resultados:\n",
    "    print(resultado)"
   ]
  },
  {
   "cell_type": "code",
   "execution_count": 90,
   "metadata": {},
   "outputs": [],
   "source": [
    "patron_4 = [{\"TEXT\": {\"REGEX\": \"[Nn][Aa][Ss][Dd][Aa][Qq]\"}}]"
   ]
  },
  {
   "cell_type": "code",
   "execution_count": 91,
   "metadata": {},
   "outputs": [
    {
     "name": "stdout",
     "output_type": "stream",
     "text": [
      "NASDAQ\n",
      "Nasdaq\n"
     ]
    }
   ],
   "source": [
    "matcher_4 = Matcher(nlp.vocab)\n",
    "matcher_4.add('índices',[patron_4])\n",
    "resultados = matcher_4(documento, as_spans=True)\n",
    "\n",
    "for resultado in resultados:\n",
    "    print(resultado)"
   ]
  },
  {
   "cell_type": "code",
   "execution_count": 92,
   "metadata": {},
   "outputs": [
    {
     "name": "stdout",
     "output_type": "stream",
     "text": [
      "Standard & Poor's 500\n",
      "Standard & Poor's 500\n",
      "conocido como S&P 500\n",
      "capitalización bursátil de 500\n",
      "del índice S&P 500\n"
     ]
    }
   ],
   "source": [
    "patron_5 = [{'IS_PUNCT': False},\n",
    "            {'IS_DIGIT': False},\n",
    "            {'IS_DIGIT': False},\n",
    "            {'IS_DIGIT': True}\n",
    "           ]\n",
    "matcher_5 = Matcher(nlp.vocab)\n",
    "matcher_5.add('índices',[patron_5])\n",
    "resultados = matcher_5(documento, as_spans=True)\n",
    "\n",
    "for resultado in resultados:\n",
    "    print(resultado)"
   ]
  },
  {
   "cell_type": "markdown",
   "metadata": {},
   "source": [
    "#### 5. Etiquetado de Partes del Discurso (POS Tagging)"
   ]
  },
  {
   "cell_type": "markdown",
   "metadata": {},
   "source": [
    "El POS Tagging asigna etiquetas gramaticales a cada token, como sustantivo, verbo, adjetivo, etc., lo que es esencial para comprender la estructura y el significado del texto."
   ]
  },
  {
   "cell_type": "code",
   "execution_count": 93,
   "metadata": {},
   "outputs": [
    {
     "name": "stdout",
     "output_type": "stream",
     "text": [
      "Etiquetado de Partes del Discurso (POS Tagging):\n",
      "Palabra: El\tPOS: DET\tEtiqueta Detallada: DET\n",
      "Palabra: rápido\tPOS: ADJ\tEtiqueta Detallada: ADJ\n",
      "Palabra: zorro\tPOS: NOUN\tEtiqueta Detallada: NOUN\n",
      "Palabra: marrón\tPOS: ADJ\tEtiqueta Detallada: ADJ\n",
      "Palabra: salta\tPOS: NOUN\tEtiqueta Detallada: NOUN\n",
      "Palabra: sobre\tPOS: ADP\tEtiqueta Detallada: ADP\n",
      "Palabra: el\tPOS: DET\tEtiqueta Detallada: DET\n",
      "Palabra: perro\tPOS: NOUN\tEtiqueta Detallada: NOUN\n",
      "Palabra: perezoso\tPOS: ADJ\tEtiqueta Detallada: ADJ\n",
      "Palabra: .\tPOS: PUNCT\tEtiqueta Detallada: PUNCT\n"
     ]
    }
   ],
   "source": [
    "import spacy\n",
    "\n",
    "# Cargar el modelo en español\n",
    "nlp = spacy.load(\"es_core_news_sm\")\n",
    "\n",
    "# Texto de ejemplo\n",
    "texto = \"El rápido zorro marrón salta sobre el perro perezoso.\"\n",
    "\n",
    "# Procesar el texto\n",
    "doc = nlp(texto)\n",
    "\n",
    "# Imprimir las palabras y sus etiquetas POS\n",
    "print(\"Etiquetado de Partes del Discurso (POS Tagging):\")\n",
    "for token in doc:\n",
    "    print(f\"Palabra: {token.text}\\tPOS: {token.pos_}\\tEtiqueta Detallada: {token.tag_}\")"
   ]
  },
  {
   "cell_type": "markdown",
   "metadata": {},
   "source": [
    "#### 6. Análisis de Dependencias Sintácticas"
   ]
  },
  {
   "cell_type": "markdown",
   "metadata": {},
   "source": [
    "El análisis de dependencias determina las relaciones gramaticales entre las palabras en una oración, ayudando a entender la estructura y el contexto del texto."
   ]
  },
  {
   "cell_type": "code",
   "execution_count": 94,
   "metadata": {},
   "outputs": [
    {
     "name": "stdout",
     "output_type": "stream",
     "text": [
      "\n",
      "Análisis de Dependencias Sintácticas:\n",
      "Palabra: El\tDep: det\tCabeza: zorro\n",
      "Palabra: rápido\tDep: amod\tCabeza: zorro\n",
      "Palabra: zorro\tDep: ROOT\tCabeza: zorro\n",
      "Palabra: marrón\tDep: amod\tCabeza: zorro\n",
      "Palabra: salta\tDep: compound\tCabeza: zorro\n",
      "Palabra: sobre\tDep: case\tCabeza: perro\n",
      "Palabra: el\tDep: det\tCabeza: perro\n",
      "Palabra: perro\tDep: nmod\tCabeza: zorro\n",
      "Palabra: perezoso\tDep: amod\tCabeza: perro\n",
      "Palabra: .\tDep: punct\tCabeza: zorro\n"
     ]
    }
   ],
   "source": [
    "import spacy\n",
    "from spacy import displacy\n",
    "\n",
    "# Cargar el modelo en español\n",
    "nlp = spacy.load(\"es_core_news_sm\")\n",
    "\n",
    "# Texto de ejemplo\n",
    "texto = \"El rápido zorro marrón salta sobre el perro perezoso.\"\n",
    "\n",
    "# Procesar el texto\n",
    "doc = nlp(texto)\n",
    "\n",
    "# Imprimir las relaciones de dependencia\n",
    "print(\"\\nAnálisis de Dependencias Sintácticas:\")\n",
    "for token in doc:\n",
    "    print(f\"Palabra: {token.text}\\tDep: {token.dep_}\\tCabeza: {token.head.text}\")\n",
    "\n",
    "# Opcional: Visualizar las dependencias sintácticas\n",
    "#displacy.serve(doc, style=\"dep\")"
   ]
  },
  {
   "cell_type": "markdown",
   "metadata": {},
   "source": [
    "#### 7. Vectorización y Similitud de Textos"
   ]
  },
  {
   "cell_type": "markdown",
   "metadata": {},
   "source": [
    "spaCy proporciona representaciones vectoriales (embeddings) de alta calidad para palabras y documentos, permitiendo calcular la similitud semántica entre diferentes textos o términos."
   ]
  },
  {
   "cell_type": "code",
   "execution_count": 95,
   "metadata": {},
   "outputs": [
    {
     "name": "stdout",
     "output_type": "stream",
     "text": [
      "\n",
      "Vectorización y Similitud de Textos:\n",
      "Similitud entre texto1 y texto2: 0.81\n"
     ]
    }
   ],
   "source": [
    "import spacy\n",
    "\n",
    "# Cargar el modelo grande que incluye vectores\n",
    "nlp = spacy.load(\"es_core_news_lg\")\n",
    "\n",
    "# Textos de ejemplo\n",
    "texto1 = \"El rápido zorro marrón salta sobre el perro perezoso.\"\n",
    "texto2 = \"Un veloz zorro de color marrón salta sobre un perro perezoso.\"\n",
    "\n",
    "# Procesar los textos\n",
    "doc1 = nlp(texto1)\n",
    "doc2 = nlp(texto2)\n",
    "\n",
    "# Calcular la similitud\n",
    "similitud = doc1.similarity(doc2)\n",
    "\n",
    "print(f\"\\nVectorización y Similitud de Textos:\")\n",
    "print(f\"Similitud entre texto1 y texto2: {similitud:.2f}\")"
   ]
  },
  {
   "cell_type": "markdown",
   "metadata": {},
   "source": [
    "#### 8. Clasificación de Texto"
   ]
  },
  {
   "cell_type": "markdown",
   "metadata": {},
   "source": [
    "La clasificación de texto permite categorizar documentos en diferentes clases o categorías predefinidas. spaCy se integra fácilmente con bibliotecas como scikit-learn para realizar esta tarea."
   ]
  },
  {
   "cell_type": "code",
   "execution_count": 101,
   "metadata": {},
   "outputs": [],
   "source": [
    "#pip install scikit-learn"
   ]
  },
  {
   "cell_type": "code",
   "execution_count": 102,
   "metadata": {},
   "outputs": [
    {
     "name": "stdout",
     "output_type": "stream",
     "text": [
      "\n",
      "Clasificación de Texto:\n",
      "Texto: 'El producto superó mis expectativas, muy bueno.'\tCategoría: negativo\n"
     ]
    }
   ],
   "source": [
    "import spacy\n",
    "import sklearn\n",
    "from sklearn.feature_extraction.text import CountVectorizer\n",
    "from sklearn.naive_bayes import MultinomialNB\n",
    "from sklearn.pipeline import make_pipeline\n",
    "\n",
    "# Datos de ejemplo\n",
    "categorias = [\"positivo\", \"negativo\", \"positivo\", \"negativo\"]\n",
    "textos = [\n",
    "    \"Me encanta este producto, es fantástico.\",\n",
    "    \"No me gustó el servicio, fue terrible.\",\n",
    "    \"La calidad es excelente y el equipo es genial.\",\n",
    "    \"Estoy decepcionado con la experiencia, muy mala.\"\n",
    "]\n",
    "\n",
    "# Crear un pipeline de clasificación\n",
    "modelo = make_pipeline(CountVectorizer(), MultinomialNB())\n",
    "\n",
    "# Entrenar el modelo\n",
    "modelo.fit(textos, categorias)\n",
    "\n",
    "# Texto a clasificar\n",
    "nuevo_texto = \"El producto superó mis expectativas, muy bueno.\"\n",
    "\n",
    "# Predecir la categoría\n",
    "prediccion = modelo.predict([nuevo_texto])[0]\n",
    "\n",
    "print(\"\\nClasificación de Texto:\")\n",
    "print(f\"Texto: '{nuevo_texto}'\\tCategoría: {prediccion}\")"
   ]
  },
  {
   "cell_type": "markdown",
   "metadata": {},
   "source": [
    "Corrección:"
   ]
  },
  {
   "cell_type": "code",
   "execution_count": 103,
   "metadata": {},
   "outputs": [
    {
     "name": "stdout",
     "output_type": "stream",
     "text": [
      "Reporte de Clasificación:\n",
      "              precision    recall  f1-score   support\n",
      "\n",
      "    negativo       1.00      1.00      1.00         2\n",
      "\n",
      "    accuracy                           1.00         2\n",
      "   macro avg       1.00      1.00      1.00         2\n",
      "weighted avg       1.00      1.00      1.00         2\n",
      "\n"
     ]
    }
   ],
   "source": [
    "import spacy\n",
    "from sklearn.linear_model import LogisticRegression\n",
    "from sklearn.model_selection import train_test_split\n",
    "from sklearn.metrics import classification_report\n",
    "\n",
    "# Cargar el modelo de spaCy con vectores\n",
    "nlp = spacy.load(\"es_core_news_lg\")\n",
    "\n",
    "# Datos de ejemplo ampliados\n",
    "categorias = [\"positivo\", \"negativo\", \"positivo\", \"negativo\", \"positivo\", \"negativo\", \"positivo\", \"negativo\"]\n",
    "textos = [\n",
    "    \"Me encanta este producto, es fantástico.\",\n",
    "    \"No me gustó el servicio, fue terrible.\",\n",
    "    \"La calidad es excelente y el equipo es genial.\",\n",
    "    \"Estoy decepcionado con la experiencia, muy mala.\",\n",
    "    \"¡Increíble! Superó todas mis expectativas.\",\n",
    "    \"Muy insatisfecho con el rendimiento.\",\n",
    "    \"Producto de primera, altamente recomendado.\",\n",
    "    \"El soporte al cliente es deficiente.\"\n",
    "]\n",
    "\n",
    "# Función para obtener los vectores de los textos\n",
    "def obtener_vector(texto):\n",
    "    doc = nlp(texto)\n",
    "    return doc.vector\n",
    "\n",
    "# Crear los vectores y las etiquetas\n",
    "X = [obtener_vector(texto) for texto in textos]\n",
    "y = categorias\n",
    "\n",
    "# Dividir en entrenamiento y prueba\n",
    "X_train, X_test, y_train, y_test = train_test_split(X, y, test_size=0.25, random_state=42)\n",
    "\n",
    "# Crear y entrenar el modelo\n",
    "modelo = LogisticRegression()\n",
    "modelo.fit(X_train, y_train)\n",
    "\n",
    "# Realizar predicciones\n",
    "y_pred = modelo.predict(X_test)\n",
    "\n",
    "# Evaluar el modelo\n",
    "print(\"Reporte de Clasificación:\")\n",
    "print(classification_report(y_test, y_pred))"
   ]
  },
  {
   "cell_type": "code",
   "execution_count": 104,
   "metadata": {},
   "outputs": [
    {
     "name": "stdout",
     "output_type": "stream",
     "text": [
      "F1-score promedio: 0.62\n"
     ]
    }
   ],
   "source": [
    "from sklearn.model_selection import cross_val_score\n",
    "import numpy as np\n",
    "\n",
    "# Crear el pipeline con TfidfVectorizer y LogisticRegression\n",
    "from sklearn.pipeline import make_pipeline\n",
    "from sklearn.feature_extraction.text import TfidfVectorizer\n",
    "\n",
    "pipeline = make_pipeline(TfidfVectorizer(), LogisticRegression())\n",
    "\n",
    "# Evaluar usando cross-validation\n",
    "scores = cross_val_score(pipeline, textos, categorias, cv=2, scoring='f1_macro')\n",
    "\n",
    "print(f\"F1-score promedio: {np.mean(scores):.2f}\")"
   ]
  },
  {
   "cell_type": "markdown",
   "metadata": {},
   "source": [
    "### Hugging Face Transformers"
   ]
  },
  {
   "cell_type": "markdown",
   "metadata": {},
   "source": [
    "Para mejorar aún más el rendimiento de tu clasificación, puedes utilizar modelos basados en transformers a través de Hugging Face Transformers."
   ]
  },
  {
   "cell_type": "code",
   "execution_count": 108,
   "metadata": {},
   "outputs": [],
   "source": [
    "#pip install transformers"
   ]
  },
  {
   "cell_type": "code",
   "execution_count": 111,
   "metadata": {},
   "outputs": [],
   "source": [
    "#pip install torch"
   ]
  },
  {
   "cell_type": "code",
   "execution_count": 113,
   "metadata": {},
   "outputs": [],
   "source": [
    "#pip install scikit-learn"
   ]
  },
  {
   "cell_type": "code",
   "execution_count": 114,
   "metadata": {},
   "outputs": [
    {
     "name": "stderr",
     "output_type": "stream",
     "text": [
      "c:\\Users\\skimo\\AppData\\Local\\Programs\\Python\\Python312\\Lib\\site-packages\\tqdm\\auto.py:21: TqdmWarning: IProgress not found. Please update jupyter and ipywidgets. See https://ipywidgets.readthedocs.io/en/stable/user_install.html\n",
      "  from .autonotebook import tqdm as notebook_tqdm\n",
      "c:\\Users\\skimo\\AppData\\Local\\Programs\\Python\\Python312\\Lib\\site-packages\\huggingface_hub\\file_download.py:139: UserWarning: `huggingface_hub` cache-system uses symlinks by default to efficiently store duplicated files but your machine does not support them in C:\\Users\\skimo\\.cache\\huggingface\\hub\\models--nlptown--bert-base-multilingual-uncased-sentiment. Caching files will still work but in a degraded version that might require more space on your disk. This warning can be disabled by setting the `HF_HUB_DISABLE_SYMLINKS_WARNING` environment variable. For more details, see https://huggingface.co/docs/huggingface_hub/how-to-cache#limitations.\n",
      "To support symlinks on Windows, you either need to activate Developer Mode or to run Python as an administrator. In order to activate developer mode, see this article: https://docs.microsoft.com/en-us/windows/apps/get-started/enable-your-device-for-development\n",
      "  warnings.warn(message)\n"
     ]
    },
    {
     "name": "stdout",
     "output_type": "stream",
     "text": [
      "Clasificación de Texto con Transformers:\n",
      "Texto: 'El producto superó mis expectativas, muy bueno.'\tCategoría: 5 stars\tConfianza: 0.69\n"
     ]
    }
   ],
   "source": [
    "from transformers import AutoTokenizer, AutoModelForSequenceClassification\n",
    "from transformers import pipeline\n",
    "import torch\n",
    "\n",
    "# Cargar el modelo preentrenado (por ejemplo, un modelo multilingüe)\n",
    "model_name = \"nlptown/bert-base-multilingual-uncased-sentiment\"\n",
    "tokenizer = AutoTokenizer.from_pretrained(model_name)\n",
    "model = AutoModelForSequenceClassification.from_pretrained(model_name)\n",
    "\n",
    "# Crear el pipeline de clasificación de sentimientos\n",
    "sentiment_pipeline = pipeline(\"sentiment-analysis\", model=model, tokenizer=tokenizer)\n",
    "\n",
    "# Texto a clasificar\n",
    "nuevo_texto = \"El producto superó mis expectativas, muy bueno.\"\n",
    "\n",
    "# Realizar la predicción\n",
    "resultado = sentiment_pipeline(nuevo_texto)\n",
    "\n",
    "print(\"Clasificación de Texto con Transformers:\")\n",
    "print(f\"Texto: '{nuevo_texto}'\\tCategoría: {resultado[0]['label']}\\tConfianza: {resultado[0]['score']:.2f}\")\n"
   ]
  },
  {
   "cell_type": "markdown",
   "metadata": {},
   "source": [
    "##### Ventajas de Usar Transformers:\n",
    "* Mayor Precisión: Los modelos basados en transformers capturan mejor las relaciones semánticas y contextuales.\n",
    "* Transfer Learning: Aprovechan el conocimiento adquirido en grandes corpus de datos para mejorar el rendimiento en tareas específicas."
   ]
  },
  {
   "cell_type": "markdown",
   "metadata": {},
   "source": [
    "### Análisis de Sentimientos  \n",
    "#### Hudding Face Transformers"
   ]
  },
  {
   "cell_type": "markdown",
   "metadata": {},
   "source": [
    "* Descripción: Ofrece una amplia variedad de modelos preentrenados basados en arquitecturas de transformers como BERT, RoBERTa, y DistilBERT, que han demostrado un rendimiento excepcional en tareas de análisis de sentimientos."
   ]
  },
  {
   "cell_type": "markdown",
   "metadata": {},
   "source": [
    "* Ventajas:\n",
    "  * Estado del Arte: Los modelos basados en transformers suelen superar a otras arquitecturas en precisión y capacidad de generalización.\n",
    "  * Facilidad de Uso: La biblioteca es intuitiva y cuenta con una amplia comunidad y recursos de apoyo.\n",
    "  * Flexibilidad: Puedes fácilmente fine-tunear modelos preentrenados para adaptarlos a tus necesidades específicas."
   ]
  },
  {
   "cell_type": "markdown",
   "metadata": {},
   "source": [
    "* Ejemplo de Uso:"
   ]
  },
  {
   "cell_type": "code",
   "execution_count": 115,
   "metadata": {},
   "outputs": [
    {
     "name": "stderr",
     "output_type": "stream",
     "text": [
      "No model was supplied, defaulted to distilbert/distilbert-base-uncased-finetuned-sst-2-english and revision 714eb0f (https://huggingface.co/distilbert/distilbert-base-uncased-finetuned-sst-2-english).\n",
      "Using a pipeline without specifying a model name and revision in production is not recommended.\n",
      "c:\\Users\\skimo\\AppData\\Local\\Programs\\Python\\Python312\\Lib\\site-packages\\huggingface_hub\\file_download.py:139: UserWarning: `huggingface_hub` cache-system uses symlinks by default to efficiently store duplicated files but your machine does not support them in C:\\Users\\skimo\\.cache\\huggingface\\hub\\models--distilbert--distilbert-base-uncased-finetuned-sst-2-english. Caching files will still work but in a degraded version that might require more space on your disk. This warning can be disabled by setting the `HF_HUB_DISABLE_SYMLINKS_WARNING` environment variable. For more details, see https://huggingface.co/docs/huggingface_hub/how-to-cache#limitations.\n",
      "To support symlinks on Windows, you either need to activate Developer Mode or to run Python as an administrator. In order to activate developer mode, see this article: https://docs.microsoft.com/en-us/windows/apps/get-started/enable-your-device-for-development\n",
      "  warnings.warn(message)\n"
     ]
    },
    {
     "name": "stdout",
     "output_type": "stream",
     "text": [
      "[{'label': 'POSITIVE', 'score': 0.9985907673835754}]\n"
     ]
    }
   ],
   "source": [
    "from transformers import pipeline\n",
    "sentiment_pipeline = pipeline(\"sentiment-analysis\")\n",
    "result = sentiment_pipeline(\"Me encanta este producto!\")\n",
    "print(result)"
   ]
  },
  {
   "cell_type": "markdown",
   "metadata": {},
   "source": [
    "#### Spacy vs Hugging Face Transformers en Análisis de Sentimientos"
   ]
  },
  {
   "cell_type": "markdown",
   "metadata": {},
   "source": [
    "Aunque Spacy es una excelente herramienta para múltiples tareas de NLP y puede ser adaptada para realizar análisis de sentimientos mediante integraciones y personalizaciones, no siempre es la opción más especializada ni la más precisa en comparación con otras soluciones específicamente diseñadas para esta tarea.\n",
    "\n",
    "Si tu objetivo principal es realizar análisis de sentimientos con alta precisión y estado del arte, bibliotecas como Hugging Face Transformers son generalmente consideradas superiores debido a su capacidad para aprovechar modelos avanzados basados en aprendizaje profundo. Sin embargo, si ya estás utilizando Spacy en tu pipeline de NLP y prefieres mantener una solución integrada, puedes complementar Spacy con modelos de transformers o utilizar otras herramientas (Hugging Face Transformers, VADER, TextBlob, FastText, APIs de Servicios en la Nube (Google, IBM, Microsoft, etc), etc) para obtener mejores resultados en análisis de sentimientos."
   ]
  },
  {
   "cell_type": "markdown",
   "metadata": {},
   "source": [
    "#### Spacy vs Hugging Face Transformers en general"
   ]
  },
  {
   "cell_type": "markdown",
   "metadata": {},
   "source": [
    "Aunque Hugging Face Transformers ofrece capacidades avanzadas y una excelente precisión en tareas complejas de NLP, Spacy se destaca en áreas donde la eficiencia, la rapidez y la facilidad de integración son cruciales. Spacy es la mejor opción para:\n",
    "\n",
    "* Aplicaciones en entornos de producción que requieren alto rendimiento y baja latencia.\n",
    "* Tareas básicas de NLP como tokenización, POS tagging y NER donde se necesita rapidez y eficiencia.\n",
    "* Proyectos con recursos computacionales limitados o que se ejecutan en dispositivos embebidos.\n",
    "* Situaciones que requieren personalización y extensibilidad mediante reglas y patrones personalizados.\n",
    "* Integraciones sencillas con pipelines de ciencia de datos y herramientas de aprendizaje automático.  \n",
    "\n",
    "En muchos casos, una combinación de Spacy y Hugging Face Transformers puede ofrecer lo mejor de ambos mundos, utilizando Spacy para el preprocesamiento eficiente y Transformers para tareas que requieren una comprensión más profunda del lenguaje."
   ]
  },
  {
   "cell_type": "markdown",
   "metadata": {},
   "source": [
    "#### 9. Integración con Otros Frameworks y Modelos"
   ]
  },
  {
   "cell_type": "markdown",
   "metadata": {},
   "source": [
    "spaCy se integra fácilmente con otras bibliotecas y frameworks de aprendizaje automático, como scikit-learn, TensorFlow y PyTorch, permitiendo una mayor flexibilidad y personalización en proyectos de NLP."
   ]
  },
  {
   "cell_type": "markdown",
   "metadata": {},
   "source": [
    "Como ya vimos en el ejemplo pasado de Integración con scikit-learn para Clasificación de Texto"
   ]
  },
  {
   "cell_type": "markdown",
   "metadata": {},
   "source": [
    "#### 10. Extensibilidad y Personalización"
   ]
  },
  {
   "cell_type": "markdown",
   "metadata": {},
   "source": [
    "spaCy permite añadir componentes personalizados al pipeline de procesamiento, así como entrenar modelos específicos para adaptarse a necesidades particulares o dominios especializados."
   ]
  },
  {
   "cell_type": "markdown",
   "metadata": {},
   "source": [
    "#### 11. Soporte Multilingüe"
   ]
  },
  {
   "cell_type": "markdown",
   "metadata": {},
   "source": [
    "spaCy ofrece modelos preentrenados para múltiples idiomas, lo que facilita el procesamiento de textos en diferentes lenguas sin necesidad de entrenar modelos desde cero."
   ]
  },
  {
   "cell_type": "code",
   "execution_count": 119,
   "metadata": {},
   "outputs": [],
   "source": [
    "# Descargar modelo en español\n",
    "#!python -m spacy download fr_core_news_sm"
   ]
  },
  {
   "cell_type": "code",
   "execution_count": 120,
   "metadata": {},
   "outputs": [
    {
     "name": "stdout",
     "output_type": "stream",
     "text": [
      "\n",
      "Soporte Multilingüe - Francés:\n",
      "Texte: Google\tType: ORG\n",
      "Texte: Paris\tType: LOC\n"
     ]
    }
   ],
   "source": [
    "import spacy\n",
    "\n",
    "# Cargar el modelo en francés\n",
    "nlp_fr = spacy.load(\"fr_core_news_sm\")\n",
    "\n",
    "# Texto de ejemplo en francés\n",
    "texto_fr = \"Google a lancé son nouveau produit à Paris le 5 mai 2024.\"\n",
    "\n",
    "# Procesar el texto\n",
    "doc_fr = nlp_fr(texto_fr)\n",
    "\n",
    "# Imprimir las entidades reconocidas\n",
    "print(\"\\nSoporte Multilingüe - Francés:\")\n",
    "for ent in doc_fr.ents:\n",
    "    print(f\"Texte: {ent.text}\\tType: {ent.label_}\")\n"
   ]
  },
  {
   "cell_type": "markdown",
   "metadata": {},
   "source": [
    "#### 12. Documentación y Comunidad Activa"
   ]
  },
  {
   "cell_type": "markdown",
   "metadata": {},
   "source": [
    "spaCy cuenta con una documentación extensa y bien estructurada que facilita el aprendizaje y la implementación de sus múltiples funcionalidades. Además, posee una comunidad activa de desarrolladores, investigadores y entusiastas del procesamiento de lenguaje natural (NLP) que contribuyen al desarrollo continuo de la biblioteca, comparten conocimientos y ayudan a resolver problemas a través de diversos canales."
   ]
  },
  {
   "cell_type": "markdown",
   "metadata": {},
   "source": [
    "##### Recursos y Cómo Aprovecharlos\n",
    "Aunque este punto no involucra directamente código, es fundamental para maximizar el uso de spaCy. A continuación, se detallan los principales recursos y cómo utilizarlos:\n",
    "\n",
    "1. Documentación Oficial  \n",
    "La documentación oficial de spaCy es el recurso más completo y actualizado para aprender sobre todas las funcionalidades, módulos y características de la biblioteca.\n",
    "\n",
    "* Acceso a la Documentación:  \n",
    "Puedes acceder a la documentación en https://spacy.io/usage."
   ]
  },
  {
   "cell_type": "markdown",
   "metadata": {},
   "source": [
    "2. Repositorio en GitHub  \n",
    "El repositorio oficial de spaCy en GitHub es el lugar donde se gestiona el desarrollo de la biblioteca, se reportan issues y se contribuye con código.\n",
    "\n",
    "* Acceso al Repositorio:\n",
    "\n",
    "Visita https://github.com/explosion/spaCy."
   ]
  },
  {
   "cell_type": "markdown",
   "metadata": {},
   "source": [
    "3. Además de Foros y Grupos de Discusión, Tutoriales y Ejemplos de la Comunidad, Conferencias y Webinars, Contribuir al desarrollo, Actualizaciones de Noticias, entre otros."
   ]
  },
  {
   "cell_type": "markdown",
   "metadata": {},
   "source": [
    "#### Referencias"
   ]
  },
  {
   "cell_type": "markdown",
   "metadata": {},
   "source": [
    "Install SPACY · SPACY Usage Documentation. (n.d.). Install spaCy. https://spacy.io/usage  \n",
    "explosion/spaCy: 💫 Industrial-strength Natural Language Processing (NLP) in Python. (n.d.). GitHub. https://github.com/explosion/spaCy  \n",
    "schwarzhector/YouTube---NLP. (n.d.). https://github.com/schwarzhector/YouTube---NLP  \n",
    "Python con Héctor Schwarz. (2022, December 31). NLP - 0-6 - Procesamiento de Lenguage Natural (NLP). YouTube. https://www.youtube.com/watch?v=y26T5AWk6sQ"
   ]
  }
 ],
 "metadata": {
  "kernelspec": {
   "display_name": "Python 3",
   "language": "python",
   "name": "python3"
  },
  "language_info": {
   "codemirror_mode": {
    "name": "ipython",
    "version": 3
   },
   "file_extension": ".py",
   "mimetype": "text/x-python",
   "name": "python",
   "nbconvert_exporter": "python",
   "pygments_lexer": "ipython3",
   "version": "3.12.7"
  }
 },
 "nbformat": 4,
 "nbformat_minor": 2
}
